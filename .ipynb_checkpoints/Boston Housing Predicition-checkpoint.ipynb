{
 "cells": [
  {
   "cell_type": "code",
   "execution_count": 1,
   "metadata": {},
   "outputs": [],
   "source": [
    "# Regression Problem - Boston Housing Price\n",
    "\n",
    "import tensorflow as tf\n",
    "from tensorflow.keras.datasets import boston_housing\n",
    "from tensorflow.keras import models, layers, optimizers, utils\n",
    "import numpy as np\n",
    "import matplotlib.pyplot as plt\n",
    "\n",
    "\n",
    "(train_data, train_targets), (test_data, test_targets) = boston_housing.load_data()"
   ]
  },
  {
   "cell_type": "code",
   "execution_count": 2,
   "metadata": {},
   "outputs": [
    {
     "name": "stdout",
     "output_type": "stream",
     "text": [
      "(404, 13)\n",
      "(102, 13)\n"
     ]
    }
   ],
   "source": [
    "print(train_data.shape)\n",
    "print(test_data.shape)"
   ]
  },
  {
   "cell_type": "code",
   "execution_count": 3,
   "metadata": {},
   "outputs": [],
   "source": [
    "# Normalization\n",
    "mean = train_data.mean(axis=0)\n",
    "train_data -= mean\n",
    "std = train_data.std(axis=0)\n",
    "train_data /= std\n",
    "test_data -= mean\n",
    "test_data /= std"
   ]
  },
  {
   "cell_type": "code",
   "execution_count": 4,
   "metadata": {},
   "outputs": [],
   "source": [
    "# For Reusability, model is defined as a function.\n",
    "\n",
    "def build_model():\n",
    "  model = models.Sequential()\n",
    "  model.add(layers.Dense(64, activation = 'relu', input_shape = (train_data.shape[1],))) # number of features (13) are used as vector in input shape\n",
    "  model.add(layers.Dense(64, activation = 'relu'))\n",
    "  model.add(layers.Dense(1)) # no activation function\n",
    "  model.compile(optimizer = 'rmsprop', loss = 'mse', metrics = ['mae'])\n",
    "  return model"
   ]
  },
  {
   "cell_type": "code",
   "execution_count": 5,
   "metadata": {},
   "outputs": [
    {
     "name": "stdout",
     "output_type": "stream",
     "text": [
      "processing fold #  0\n",
      "Train on 303 samples\n",
      "Epoch 1/10\n",
      "303/303 [==============================] - 3s 9ms/sample - loss: 197.3600 - mae: 10.3955\n",
      "Epoch 2/10\n",
      "303/303 [==============================] - 1s 3ms/sample - loss: 26.9474 - mae: 3.3991\n",
      "Epoch 3/10\n",
      "303/303 [==============================] - 1s 3ms/sample - loss: 22.3588 - mae: 3.0016\n",
      "Epoch 4/10\n",
      "303/303 [==============================] - 1s 4ms/sample - loss: 19.0035 - mae: 2.8364\n",
      "Epoch 5/10\n",
      "303/303 [==============================] - 1s 4ms/sample - loss: 18.3643 - mae: 2.6396\n",
      "Epoch 6/10\n",
      "303/303 [==============================] - 1s 4ms/sample - loss: 16.8991 - mae: 2.6187\n",
      "Epoch 7/10\n",
      "303/303 [==============================] - 1s 4ms/sample - loss: 15.6518 - mae: 2.5569\n",
      "Epoch 8/10\n",
      "303/303 [==============================] - 1s 4ms/sample - loss: 14.5828 - mae: 2.4607\n",
      "Epoch 9/10\n",
      "303/303 [==============================] - 1s 4ms/sample - loss: 14.1989 - mae: 2.3798\n",
      "Epoch 10/10\n",
      "303/303 [==============================] - 1s 4ms/sample - loss: 13.5807 - mae: 2.3553\n",
      "processing fold #  1\n",
      "Train on 303 samples\n",
      "Epoch 1/10\n",
      "303/303 [==============================] - 2s 6ms/sample - loss: 243.8972 - mae: 12.0614\n",
      "Epoch 2/10\n",
      "303/303 [==============================] - 1s 4ms/sample - loss: 34.0941 - mae: 3.9472\n",
      "Epoch 3/10\n",
      "303/303 [==============================] - 1s 4ms/sample - loss: 20.1875 - mae: 3.0432\n",
      "Epoch 4/10\n",
      "303/303 [==============================] - 1s 4ms/sample - loss: 15.7599 - mae: 2.6469\n",
      "Epoch 5/10\n",
      "303/303 [==============================] - 1s 4ms/sample - loss: 14.7118 - mae: 2.4761\n",
      "Epoch 6/10\n",
      "303/303 [==============================] - 1s 4ms/sample - loss: 13.5160 - mae: 2.3667\n",
      "Epoch 7/10\n",
      "303/303 [==============================] - 1s 3ms/sample - loss: 12.4325 - mae: 2.3419\n",
      "Epoch 8/10\n",
      "303/303 [==============================] - 1s 4ms/sample - loss: 12.1559 - mae: 2.2771\n",
      "Epoch 9/10\n",
      "303/303 [==============================] - 1s 4ms/sample - loss: 11.6864 - mae: 2.1785\n",
      "Epoch 10/10\n",
      "303/303 [==============================] - 1s 4ms/sample - loss: 11.4658 - mae: 2.1389\n",
      "processing fold #  2\n",
      "Train on 303 samples\n",
      "Epoch 1/10\n",
      "303/303 [==============================] - 2s 5ms/sample - loss: 207.3268 - mae: 10.3895\n",
      "Epoch 2/10\n",
      "303/303 [==============================] - 1s 4ms/sample - loss: 36.2582 - mae: 3.9052\n",
      "Epoch 3/10\n",
      "303/303 [==============================] - 1s 4ms/sample - loss: 23.9022 - mae: 3.1444\n",
      "Epoch 4/10\n",
      "303/303 [==============================] - 1s 4ms/sample - loss: 18.6735 - mae: 2.8604\n",
      "Epoch 5/10\n",
      "303/303 [==============================] - 1s 4ms/sample - loss: 15.2780 - mae: 2.6333\n",
      "Epoch 6/10\n",
      "303/303 [==============================] - 1s 4ms/sample - loss: 13.1875 - mae: 2.4745\n",
      "Epoch 7/10\n",
      "303/303 [==============================] - 1s 4ms/sample - loss: 11.7099 - mae: 2.3593\n",
      "Epoch 8/10\n",
      "303/303 [==============================] - 1s 4ms/sample - loss: 10.6708 - mae: 2.3345\n",
      "Epoch 9/10\n",
      "303/303 [==============================] - 1s 4ms/sample - loss: 10.5272 - mae: 2.2744\n",
      "Epoch 10/10\n",
      "303/303 [==============================] - 1s 4ms/sample - loss: 9.9669 - mae: 2.2046\n",
      "processing fold #  3\n",
      "Train on 303 samples\n",
      "Epoch 1/10\n",
      "303/303 [==============================] - 2s 6ms/sample - loss: 213.6754 - mae: 11.2003\n",
      "Epoch 2/10\n",
      "303/303 [==============================] - 1s 4ms/sample - loss: 27.5903 - mae: 3.6880\n",
      "Epoch 3/10\n",
      "303/303 [==============================] - 1s 4ms/sample - loss: 20.2384 - mae: 3.0408\n",
      "Epoch 4/10\n",
      "303/303 [==============================] - 1s 4ms/sample - loss: 16.1616 - mae: 2.7118\n",
      "Epoch 5/10\n",
      "303/303 [==============================] - 1s 4ms/sample - loss: 14.2536 - mae: 2.4899\n",
      "Epoch 6/10\n",
      "303/303 [==============================] - 1s 4ms/sample - loss: 13.5379 - mae: 2.4196\n",
      "Epoch 7/10\n",
      "303/303 [==============================] - 1s 4ms/sample - loss: 12.9338 - mae: 2.2966\n",
      "Epoch 8/10\n",
      "303/303 [==============================] - 1s 4ms/sample - loss: 12.1704 - mae: 2.3123\n",
      "Epoch 9/10\n",
      "303/303 [==============================] - 1s 4ms/sample - loss: 11.2683 - mae: 2.2696\n",
      "Epoch 10/10\n",
      "303/303 [==============================] - 1s 4ms/sample - loss: 10.7964 - mae: 2.2157\n"
     ]
    }
   ],
   "source": [
    "k = 4\n",
    "num_val_samples = len(train_data) // 4\n",
    "num_epochs = 10\n",
    "all_scores = []\n",
    "\n",
    "for i in range(k):\n",
    "  print('processing fold # ', i)\n",
    "  # prepare the validation data: data from partition # k\n",
    "  val_data = train_data[i * num_val_samples: (i + 1) * num_val_samples]\n",
    "  val_targets = train_targets[i * num_val_samples: (i + 1) * num_val_samples]\n",
    "  \n",
    "  # prepare the training data: data from data - k\n",
    "  partial_train_data = np.concatenate(                    \n",
    "      [train_data[:i * num_val_samples],\n",
    "      train_data[(i + 1 ) * num_val_samples:]],\n",
    "  axis = 0)\n",
    "  partial_train_targets = np.concatenate(\n",
    "      [train_targets[:i * num_val_samples],\n",
    "      train_targets[(i + 1 ) * num_val_samples:]],\n",
    "  axis = 0)\n",
    "  # Build the Keras Models (already commpiled)\n",
    "  model = build_model()\n",
    "  # Train the model (in silence mode, verbose = 0)\n",
    "  model.fit(partial_train_data, partial_train_targets, epochs = num_epochs, batch_size = 1, verbose = 1)\n",
    "  # Evaluate the model on the validation data\n",
    "  val_mse, val_mae = model.evaluate(val_data, val_targets, verbose = 0)\n",
    "  all_scores.append(val_mae)"
   ]
  },
  {
   "cell_type": "code",
   "execution_count": 6,
   "metadata": {},
   "outputs": [
    {
     "data": {
      "text/plain": [
       "[2.0593965, 2.721386, 2.29863, 2.9649363]"
      ]
     },
     "execution_count": 6,
     "metadata": {},
     "output_type": "execute_result"
    }
   ],
   "source": [
    "all_scores"
   ]
  },
  {
   "cell_type": "code",
   "execution_count": 7,
   "metadata": {},
   "outputs": [
    {
     "data": {
      "text/plain": [
       "2.5110872"
      ]
     },
     "execution_count": 7,
     "metadata": {},
     "output_type": "execute_result"
    }
   ],
   "source": [
    "np.mean(all_scores)"
   ]
  },
  {
   "cell_type": "code",
   "execution_count": 12,
   "metadata": {},
   "outputs": [
    {
     "name": "stdout",
     "output_type": "stream",
     "text": [
      "processing fold # 0\n",
      "processing fold # 1\n",
      "processing fold # 2\n",
      "processing fold # 3\n"
     ]
    }
   ],
   "source": [
    "# Saving the validation logs at each fold\n",
    "num_epochs = 10\n",
    "all_mae_histories = []\n",
    "for i in range(k):\n",
    "    print('processing fold #', i)\n",
    "    val_data = train_data[i * num_val_samples: (i + 1) * num_val_samples]\n",
    "    val_targets = train_targets[i * num_val_samples: (i + 1) * num_val_samples]\n",
    "    partial_train_data = np.concatenate([train_data[:i * num_val_samples],\n",
    "                                         train_data[(i + 1) * num_val_samples:]], axis=0)\n",
    "    partial_train_targets = np.concatenate([train_targets[:i * num_val_samples],\n",
    "                                            train_targets[(i + 1) * num_val_samples:]], axis=0)\n",
    "    model = build_model()\n",
    "    history = model.fit(partial_train_data, partial_train_targets,\n",
    "                        validation_data=(val_data, val_targets),\n",
    "                        epochs=num_epochs, batch_size=1, verbose=0)\n",
    "    mae_history = history.history['val_mae']\n",
    "    all_mae_histories.append(mae_history)"
   ]
  },
  {
   "cell_type": "code",
   "execution_count": 13,
   "metadata": {},
   "outputs": [],
   "source": [
    "# Building the history of successive mean K-fold validation scores\n",
    "average_mae_history = [np.mean([x[i] for x in all_mae_histories]) for i in range(num_epochs)]"
   ]
  },
  {
   "cell_type": "markdown",
   "metadata": {},
   "source": [
    "# Plotting Validation Scores"
   ]
  },
  {
   "cell_type": "code",
   "execution_count": 14,
   "metadata": {},
   "outputs": [
    {
     "data": {
      "image/png": "[encoded data removed]",
      "text/plain": [
       "<Figure size 432x288 with 1 Axes>"
      ]
     },
     "metadata": {
      "needs_background": "light"
     },
     "output_type": "display_data"
    }
   ],
   "source": [
    "plt.plot(range(1, len(average_mae_history) + 1 ), average_mae_history)\n",
    "\n",
    "plt.xlabel('Epochs')\n",
    "plt.ylabel('Validation MAE')\n",
    "\n",
    "plt.show()"
   ]
  },
  {
   "cell_type": "markdown",
   "metadata": {},
   "source": [
    "# Plotting Validation Scores - Excluding the first 10 data points"
   ]
  },
  {
   "cell_type": "code",
   "execution_count": 15,
   "metadata": {},
   "outputs": [
    {
     "data": {
      "image/png": "[encoded data removed]",
      "text/plain": [
       "<Figure size 432x288 with 1 Axes>"
      ]
     },
     "metadata": {
      "needs_background": "light"
     },
     "output_type": "display_data"
    }
   ],
   "source": [
    "def smooth_curve(points, factor=0.9):\n",
    "  smoothed_points = []\n",
    "  for point in points:\n",
    "    if smoothed_points:\n",
    "      previous = smoothed_points[-1]\n",
    "      smoothed_points.append(previous * factor + point * (1- factor))\n",
    "    else:\n",
    "      smoothed_points.append(point)\n",
    "  return smoothed_points\n",
    "\n",
    "smooth_mae_history = smooth_curve(average_mae_history[10:])\n",
    "\n",
    "plt.plot(range(1, len(smooth_mae_history) + 1), smooth_mae_history)\n",
    "plt.xlabel('Epochs')\n",
    "plt.ylabel('Validation MAE')\n",
    "plt.show()"
   ]
  },
  {
   "cell_type": "markdown",
   "metadata": {},
   "source": [
    "# Training the final model"
   ]
  },
  {
   "cell_type": "code",
   "execution_count": 16,
   "metadata": {},
   "outputs": [
    {
     "name": "stdout",
     "output_type": "stream",
     "text": [
      "Train on 404 samples\n",
      "Epoch 1/80\n",
      "404/404 [==============================] - 1s 2ms/sample - loss: 484.9562 - mae: 20.1755\n",
      "Epoch 2/80\n",
      "404/404 [==============================] - 0s 322us/sample - loss: 316.5196 - mae: 15.6081\n",
      "Epoch 3/80\n",
      "404/404 [==============================] - 0s 351us/sample - loss: 168.6174 - mae: 10.4378\n",
      "Epoch 4/80\n",
      "404/404 [==============================] - 0s 323us/sample - loss: 86.3821 - mae: 7.0740\n",
      "Epoch 5/80\n",
      "404/404 [==============================] - 0s 318us/sample - loss: 53.2751 - mae: 5.4320\n",
      "Epoch 6/80\n",
      "404/404 [==============================] - 0s 312us/sample - loss: 35.5664 - mae: 4.2989\n",
      "Epoch 7/80\n",
      "404/404 [==============================] - 0s 322us/sample - loss: 26.6585 - mae: 3.6609\n",
      "Epoch 8/80\n",
      "404/404 [==============================] - 0s 338us/sample - loss: 22.2600 - mae: 3.2573\n",
      "Epoch 9/80\n",
      "404/404 [==============================] - 0s 351us/sample - loss: 19.6447 - mae: 3.1197\n",
      "Epoch 10/80\n",
      "404/404 [==============================] - 0s 322us/sample - loss: 17.8143 - mae: 2.8993\n",
      "Epoch 11/80\n",
      "404/404 [==============================] - 0s 329us/sample - loss: 16.5636 - mae: 2.7855\n",
      "Epoch 12/80\n",
      "404/404 [==============================] - 0s 324us/sample - loss: 15.3604 - mae: 2.6806\n",
      "Epoch 13/80\n",
      "404/404 [==============================] - 0s 329us/sample - loss: 13.9994 - mae: 2.5896\n",
      "Epoch 14/80\n",
      "404/404 [==============================] - 0s 329us/sample - loss: 13.4809 - mae: 2.5561\n",
      "Epoch 15/80\n",
      "404/404 [==============================] - 0s 302us/sample - loss: 12.7236 - mae: 2.4560\n",
      "Epoch 16/80\n",
      "404/404 [==============================] - 0s 395us/sample - loss: 12.0271 - mae: 2.4176\n",
      "Epoch 17/80\n",
      "404/404 [==============================] - 0s 317us/sample - loss: 11.4997 - mae: 2.3802\n",
      "Epoch 18/80\n",
      "404/404 [==============================] - 0s 327us/sample - loss: 10.9938 - mae: 2.3374\n",
      "Epoch 19/80\n",
      "404/404 [==============================] - 0s 334us/sample - loss: 10.6882 - mae: 2.3017\n",
      "Epoch 20/80\n",
      "404/404 [==============================] - 0s 329us/sample - loss: 10.5113 - mae: 2.3151\n",
      "Epoch 21/80\n",
      "404/404 [==============================] - 0s 329us/sample - loss: 10.2149 - mae: 2.2432\n",
      "Epoch 22/80\n",
      "404/404 [==============================] - 0s 334us/sample - loss: 9.8001 - mae: 2.2127\n",
      "Epoch 23/80\n",
      "404/404 [==============================] - 0s 324us/sample - loss: 9.7787 - mae: 2.2066\n",
      "Epoch 24/80\n",
      "404/404 [==============================] - 0s 388us/sample - loss: 9.5370 - mae: 2.1886\n",
      "Epoch 25/80\n",
      "404/404 [==============================] - 0s 329us/sample - loss: 9.1588 - mae: 2.1617\n",
      "Epoch 26/80\n",
      "404/404 [==============================] - 0s 354us/sample - loss: 9.1251 - mae: 2.1181\n",
      "Epoch 27/80\n",
      "404/404 [==============================] - 0s 351us/sample - loss: 9.0527 - mae: 2.1641\n",
      "Epoch 28/80\n",
      "404/404 [==============================] - 0s 329us/sample - loss: 8.9727 - mae: 2.0935\n",
      "Epoch 29/80\n",
      "404/404 [==============================] - 0s 354us/sample - loss: 8.6579 - mae: 2.0906\n",
      "Epoch 30/80\n",
      "404/404 [==============================] - 0s 379us/sample - loss: 8.6693 - mae: 2.1032\n",
      "Epoch 31/80\n",
      "404/404 [==============================] - 0s 383us/sample - loss: 8.6321 - mae: 2.0646\n",
      "Epoch 32/80\n",
      "404/404 [==============================] - 0s 384us/sample - loss: 8.4229 - mae: 2.0533\n",
      "Epoch 33/80\n",
      "404/404 [==============================] - 0s 336us/sample - loss: 8.2430 - mae: 2.0379\n",
      "Epoch 34/80\n",
      "404/404 [==============================] - 0s 453us/sample - loss: 8.4672 - mae: 2.0624\n",
      "Epoch 35/80\n",
      "404/404 [==============================] - 0s 502us/sample - loss: 8.2731 - mae: 2.0471\n",
      "Epoch 36/80\n",
      "404/404 [==============================] - 0s 327us/sample - loss: 8.2408 - mae: 2.0612\n",
      "Epoch 37/80\n",
      "404/404 [==============================] - 0s 383us/sample - loss: 8.0529 - mae: 2.0010\n",
      "Epoch 38/80\n",
      "404/404 [==============================] - 0s 335us/sample - loss: 7.9009 - mae: 1.9979\n",
      "Epoch 39/80\n",
      "404/404 [==============================] - 0s 359us/sample - loss: 7.9226 - mae: 2.0335\n",
      "Epoch 40/80\n",
      "404/404 [==============================] - 0s 460us/sample - loss: 7.8035 - mae: 1.9883\n",
      "Epoch 41/80\n",
      "404/404 [==============================] - 0s 525us/sample - loss: 7.8463 - mae: 2.0051\n",
      "Epoch 42/80\n",
      "404/404 [==============================] - 0s 334us/sample - loss: 7.6205 - mae: 1.9198\n",
      "Epoch 43/80\n",
      "404/404 [==============================] - 0s 529us/sample - loss: 7.5573 - mae: 1.9954\n",
      "Epoch 44/80\n",
      "404/404 [==============================] - 0s 379us/sample - loss: 7.5062 - mae: 1.9382\n",
      "Epoch 45/80\n",
      "404/404 [==============================] - 0s 354us/sample - loss: 7.4165 - mae: 1.9518\n",
      "Epoch 46/80\n",
      "404/404 [==============================] - 0s 324us/sample - loss: 7.3938 - mae: 1.9424\n",
      "Epoch 47/80\n",
      "404/404 [==============================] - 0s 336us/sample - loss: 7.3374 - mae: 1.9275\n",
      "Epoch 48/80\n",
      "404/404 [==============================] - 0s 336us/sample - loss: 7.1704 - mae: 1.9212\n",
      "Epoch 49/80\n",
      "404/404 [==============================] - 0s 350us/sample - loss: 7.1494 - mae: 1.9241\n",
      "Epoch 50/80\n",
      "404/404 [==============================] - 0s 332us/sample - loss: 7.2214 - mae: 1.9109\n",
      "Epoch 51/80\n",
      "404/404 [==============================] - 0s 334us/sample - loss: 7.0358 - mae: 1.8655\n",
      "Epoch 52/80\n",
      "404/404 [==============================] - 0s 341us/sample - loss: 7.0178 - mae: 1.8838\n",
      "Epoch 53/80\n",
      "404/404 [==============================] - 0s 336us/sample - loss: 6.8226 - mae: 1.8353\n",
      "Epoch 54/80\n",
      "404/404 [==============================] - 0s 364us/sample - loss: 6.9247 - mae: 1.8796\n",
      "Epoch 55/80\n",
      "404/404 [==============================] - 0s 339us/sample - loss: 6.8810 - mae: 1.8532\n",
      "Epoch 56/80\n",
      "404/404 [==============================] - 0s 338us/sample - loss: 6.6874 - mae: 1.8597\n",
      "Epoch 57/80\n",
      "404/404 [==============================] - 0s 374us/sample - loss: 6.6200 - mae: 1.8255\n",
      "Epoch 58/80\n",
      "404/404 [==============================] - 0s 349us/sample - loss: 6.7163 - mae: 1.8528\n",
      "Epoch 59/80\n",
      "404/404 [==============================] - 0s 346us/sample - loss: 6.5522 - mae: 1.8051\n",
      "Epoch 60/80\n",
      "404/404 [==============================] - 0s 361us/sample - loss: 6.7112 - mae: 1.8468\n",
      "Epoch 61/80\n",
      "404/404 [==============================] - 0s 351us/sample - loss: 6.3871 - mae: 1.8077\n",
      "Epoch 62/80\n",
      "404/404 [==============================] - 0s 364us/sample - loss: 6.6807 - mae: 1.8839\n",
      "Epoch 63/80\n",
      "404/404 [==============================] - 0s 341us/sample - loss: 6.3399 - mae: 1.7852\n",
      "Epoch 64/80\n",
      "404/404 [==============================] - 0s 381us/sample - loss: 6.4400 - mae: 1.7955\n",
      "Epoch 65/80\n",
      "404/404 [==============================] - 0s 366us/sample - loss: 6.3477 - mae: 1.8053\n",
      "Epoch 66/80\n",
      "404/404 [==============================] - 0s 379us/sample - loss: 6.3821 - mae: 1.7790\n",
      "Epoch 67/80\n",
      "404/404 [==============================] - 0s 317us/sample - loss: 6.1842 - mae: 1.7847\n",
      "Epoch 68/80\n",
      "404/404 [==============================] - 0s 364us/sample - loss: 6.1907 - mae: 1.7717\n",
      "Epoch 69/80\n",
      "404/404 [==============================] - 0s 333us/sample - loss: 6.2616 - mae: 1.8041\n",
      "Epoch 70/80\n",
      "404/404 [==============================] - 0s 390us/sample - loss: 6.0715 - mae: 1.7533\n",
      "Epoch 71/80\n",
      "404/404 [==============================] - 0s 388us/sample - loss: 6.1604 - mae: 1.7532\n",
      "Epoch 72/80\n",
      "404/404 [==============================] - 0s 318us/sample - loss: 6.1706 - mae: 1.7891\n",
      "Epoch 73/80\n",
      "404/404 [==============================] - 0s 418us/sample - loss: 6.0066 - mae: 1.7631\n",
      "Epoch 74/80\n",
      "404/404 [==============================] - 0s 408us/sample - loss: 5.8978 - mae: 1.7434\n",
      "Epoch 75/80\n",
      "404/404 [==============================] - 0s 346us/sample - loss: 5.9608 - mae: 1.7586\n",
      "Epoch 76/80\n",
      "404/404 [==============================] - 0s 319us/sample - loss: 5.8430 - mae: 1.7230\n",
      "Epoch 77/80\n",
      "404/404 [==============================] - 0s 406us/sample - loss: 5.7169 - mae: 1.7486\n",
      "Epoch 78/80\n",
      "404/404 [==============================] - 0s 354us/sample - loss: 5.8252 - mae: 1.7290\n",
      "Epoch 79/80\n",
      "404/404 [==============================] - 0s 339us/sample - loss: 5.8932 - mae: 1.7437\n",
      "Epoch 80/80\n",
      "404/404 [==============================] - 0s 366us/sample - loss: 5.7632 - mae: 1.7211\n",
      "102/1 [====================================================================================================================================================================================================================================================================================================================================================================================================================================================================================================================================================================================================================================================================================================================================================================================================================================================================================================================================================================================================================================================================================================================================================================================================================================================================================================================================================================================================================================================================================================================================================================================================================================================================================================================================================================================================================================================================================================================================================================================================================================================================================================================================================================================================================================================================================================================================================================================================================================================================================================================================================================================================================================================================================================================================================================================================================================================================================================================================================================================================================================================================================================================================================================================] - 0s 983us/sample - loss: 66.9094 - mae: 2.7217\n"
     ]
    }
   ],
   "source": [
    "model = build_model()\n",
    "\n",
    "#Training on Entire Data\n",
    "model.fit(train_data, train_targets, epochs = 80, batch_size = 16, verbose = 1)\n",
    "test_mse_score, test_mae_score = model.evaluate(test_data, test_targets)"
   ]
  },
  {
   "cell_type": "code",
   "execution_count": 17,
   "metadata": {},
   "outputs": [
    {
     "data": {
      "text/plain": [
       "17.44546553667854"
      ]
     },
     "execution_count": 17,
     "metadata": {},
     "output_type": "execute_result"
    }
   ],
   "source": [
    "test_mse_score"
   ]
  },
  {
   "cell_type": "code",
   "execution_count": null,
   "metadata": {},
   "outputs": [],
   "source": []
  }
 ],
 "metadata": {
  "kernelspec": {
   "display_name": "Python 3",
   "language": "python",
   "name": "python3"
  },
  "language_info": {
   "codemirror_mode": {
    "name": "ipython",
    "version": 3
   },
   "file_extension": ".py",
   "mimetype": "text/x-python",
   "name": "python",
   "nbconvert_exporter": "python",
   "pygments_lexer": "ipython3",
   "version": "3.7.5"
  }
 },
 "nbformat": 4,
 "nbformat_minor": 2
}
