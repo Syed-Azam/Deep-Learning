{
 "cells": [
  {
   "cell_type": "code",
   "execution_count": 1,
   "metadata": {
    "colab": {},
    "colab_type": "code",
    "id": "YWyGz7rcvx1I"
   },
   "outputs": [],
   "source": [
    "import tensorflow as tf\n",
    "import numpy as np\n",
    "# if tf.__version__ < \"2.0.0\":\n",
    "#   !pip install --upgrade tensorflow_gpu==2.0"
   ]
  },
  {
   "cell_type": "code",
   "execution_count": 2,
   "metadata": {
    "colab": {
     "base_uri": "https://localhost:8080/",
     "height": 34
    },
    "colab_type": "code",
    "id": "vKbo_pFswCaN",
    "outputId": "376f54be-24d1-4fbb-a621-f239dc676ba1"
   },
   "outputs": [
    {
     "name": "stdout",
     "output_type": "stream",
     "text": [
      "2.0.0\n"
     ]
    }
   ],
   "source": [
    "print(tf.__version__)"
   ]
  },
  {
   "cell_type": "code",
   "execution_count": 3,
   "metadata": {
    "colab": {
     "base_uri": "https://localhost:8080/",
     "height": 209,
     "resources": {
      "http://localhost:8080/nbextensions/google.colab/files.js": {
       "data": "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",
       "headers": [
        [
         "content-type",
         "application/javascript"
        ]
       ],
       "ok": true,
       "status": 200,
       "status_text": ""
      }
     }
    },
    "colab_type": "code",
    "id": "gZNG8fSjwYTE",
    "outputId": "1fde7322-aa4d-41f3-adb7-ea294d452940"
   },
   "outputs": [
    {
     "name": "stderr",
     "output_type": "stream",
     "text": [
      "'apt-get' is not recognized as an internal or external command,\n",
      "operable program or batch file.\n"
     ]
    },
    {
     "ename": "ModuleNotFoundError",
     "evalue": "No module named 'google.colab'",
     "output_type": "error",
     "traceback": [
      "\u001b[1;31m---------------------------------------------------------------------------\u001b[0m",
      "\u001b[1;31mModuleNotFoundError\u001b[0m                       Traceback (most recent call last)",
      "\u001b[1;32m<ipython-input-3-1076f0060a3d>\u001b[0m in \u001b[0;36m<module>\u001b[1;34m\u001b[0m\n\u001b[0;32m      1\u001b[0m \u001b[0mdevice_name\u001b[0m \u001b[1;33m=\u001b[0m \u001b[0mtf\u001b[0m\u001b[1;33m.\u001b[0m\u001b[0mtest\u001b[0m\u001b[1;33m.\u001b[0m\u001b[0mgpu_device_name\u001b[0m\u001b[1;33m(\u001b[0m\u001b[1;33m)\u001b[0m\u001b[1;33m\u001b[0m\u001b[1;33m\u001b[0m\u001b[0m\n\u001b[0;32m      2\u001b[0m \u001b[0mget_ipython\u001b[0m\u001b[1;33m(\u001b[0m\u001b[1;33m)\u001b[0m\u001b[1;33m.\u001b[0m\u001b[0msystem\u001b[0m\u001b[1;33m(\u001b[0m\u001b[1;34m'apt-get install graphviz -y'\u001b[0m\u001b[1;33m)\u001b[0m\u001b[1;33m\u001b[0m\u001b[1;33m\u001b[0m\u001b[0m\n\u001b[1;32m----> 3\u001b[1;33m \u001b[1;32mfrom\u001b[0m \u001b[0mgoogle\u001b[0m\u001b[1;33m.\u001b[0m\u001b[0mcolab\u001b[0m \u001b[1;32mimport\u001b[0m \u001b[0mfiles\u001b[0m\u001b[1;33m\u001b[0m\u001b[1;33m\u001b[0m\u001b[0m\n\u001b[0m\u001b[0;32m      4\u001b[0m \u001b[0muploaded\u001b[0m \u001b[1;33m=\u001b[0m \u001b[0mfiles\u001b[0m\u001b[1;33m.\u001b[0m\u001b[0mupload\u001b[0m\u001b[1;33m(\u001b[0m\u001b[1;33m)\u001b[0m\u001b[1;33m\u001b[0m\u001b[1;33m\u001b[0m\u001b[0m\n\u001b[0;32m      5\u001b[0m \u001b[1;32mimport\u001b[0m \u001b[0mpandas\u001b[0m \u001b[1;32mas\u001b[0m \u001b[0mpd\u001b[0m\u001b[1;33m\u001b[0m\u001b[1;33m\u001b[0m\u001b[0m\n",
      "\u001b[1;31mModuleNotFoundError\u001b[0m: No module named 'google.colab'"
     ]
    }
   ],
   "source": [
    "device_name = tf.test.gpu_device_name()\n",
    "!apt-get install graphviz -y\n",
    "from google.colab import files\n",
    "uploaded = files.upload()\n",
    "import pandas as pd\n",
    "import io\n",
    "\n",
    "dataframe = pd.read_csv('iris.data' , header = None)"
   ]
  },
  {
   "cell_type": "code",
   "execution_count": 4,
   "metadata": {
    "colab": {
     "base_uri": "https://localhost:8080/",
     "height": 1000
    },
    "colab_type": "code",
    "id": "lBZAS5zJwf7m",
    "outputId": "3d7bcba9-35fc-4fed-811a-17f984ac8213"
   },
   "outputs": [
    {
     "data": {
      "text/plain": [
       "array([[5.1, 3.5, 1.4, 0.2, 'Iris-setosa'],\n",
       "       [4.9, 3.0, 1.4, 0.2, 'Iris-setosa'],\n",
       "       [4.7, 3.2, 1.3, 0.2, 'Iris-setosa'],\n",
       "       [4.6, 3.1, 1.5, 0.2, 'Iris-setosa'],\n",
       "       [5.0, 3.6, 1.4, 0.2, 'Iris-setosa'],\n",
       "       [5.4, 3.9, 1.7, 0.4, 'Iris-setosa'],\n",
       "       [4.6, 3.4, 1.4, 0.3, 'Iris-setosa'],\n",
       "       [5.0, 3.4, 1.5, 0.2, 'Iris-setosa'],\n",
       "       [4.4, 2.9, 1.4, 0.2, 'Iris-setosa'],\n",
       "       [4.9, 3.1, 1.5, 0.1, 'Iris-setosa'],\n",
       "       [5.4, 3.7, 1.5, 0.2, 'Iris-setosa'],\n",
       "       [4.8, 3.4, 1.6, 0.2, 'Iris-setosa'],\n",
       "       [4.8, 3.0, 1.4, 0.1, 'Iris-setosa'],\n",
       "       [4.3, 3.0, 1.1, 0.1, 'Iris-setosa'],\n",
       "       [5.8, 4.0, 1.2, 0.2, 'Iris-setosa'],\n",
       "       [5.7, 4.4, 1.5, 0.4, 'Iris-setosa'],\n",
       "       [5.4, 3.9, 1.3, 0.4, 'Iris-setosa'],\n",
       "       [5.1, 3.5, 1.4, 0.3, 'Iris-setosa'],\n",
       "       [5.7, 3.8, 1.7, 0.3, 'Iris-setosa'],\n",
       "       [5.1, 3.8, 1.5, 0.3, 'Iris-setosa'],\n",
       "       [5.4, 3.4, 1.7, 0.2, 'Iris-setosa'],\n",
       "       [5.1, 3.7, 1.5, 0.4, 'Iris-setosa'],\n",
       "       [4.6, 3.6, 1.0, 0.2, 'Iris-setosa'],\n",
       "       [5.1, 3.3, 1.7, 0.5, 'Iris-setosa'],\n",
       "       [4.8, 3.4, 1.9, 0.2, 'Iris-setosa'],\n",
       "       [5.0, 3.0, 1.6, 0.2, 'Iris-setosa'],\n",
       "       [5.0, 3.4, 1.6, 0.4, 'Iris-setosa'],\n",
       "       [5.2, 3.5, 1.5, 0.2, 'Iris-setosa'],\n",
       "       [5.2, 3.4, 1.4, 0.2, 'Iris-setosa'],\n",
       "       [4.7, 3.2, 1.6, 0.2, 'Iris-setosa'],\n",
       "       [4.8, 3.1, 1.6, 0.2, 'Iris-setosa'],\n",
       "       [5.4, 3.4, 1.5, 0.4, 'Iris-setosa'],\n",
       "       [5.2, 4.1, 1.5, 0.1, 'Iris-setosa'],\n",
       "       [5.5, 4.2, 1.4, 0.2, 'Iris-setosa'],\n",
       "       [4.9, 3.1, 1.5, 0.1, 'Iris-setosa'],\n",
       "       [5.0, 3.2, 1.2, 0.2, 'Iris-setosa'],\n",
       "       [5.5, 3.5, 1.3, 0.2, 'Iris-setosa'],\n",
       "       [4.9, 3.1, 1.5, 0.1, 'Iris-setosa'],\n",
       "       [4.4, 3.0, 1.3, 0.2, 'Iris-setosa'],\n",
       "       [5.1, 3.4, 1.5, 0.2, 'Iris-setosa'],\n",
       "       [5.0, 3.5, 1.3, 0.3, 'Iris-setosa'],\n",
       "       [4.5, 2.3, 1.3, 0.3, 'Iris-setosa'],\n",
       "       [4.4, 3.2, 1.3, 0.2, 'Iris-setosa'],\n",
       "       [5.0, 3.5, 1.6, 0.6, 'Iris-setosa'],\n",
       "       [5.1, 3.8, 1.9, 0.4, 'Iris-setosa'],\n",
       "       [4.8, 3.0, 1.4, 0.3, 'Iris-setosa'],\n",
       "       [5.1, 3.8, 1.6, 0.2, 'Iris-setosa'],\n",
       "       [4.6, 3.2, 1.4, 0.2, 'Iris-setosa'],\n",
       "       [5.3, 3.7, 1.5, 0.2, 'Iris-setosa'],\n",
       "       [5.0, 3.3, 1.4, 0.2, 'Iris-setosa'],\n",
       "       [7.0, 3.2, 4.7, 1.4, 'Iris-versicolor'],\n",
       "       [6.4, 3.2, 4.5, 1.5, 'Iris-versicolor'],\n",
       "       [6.9, 3.1, 4.9, 1.5, 'Iris-versicolor'],\n",
       "       [5.5, 2.3, 4.0, 1.3, 'Iris-versicolor'],\n",
       "       [6.5, 2.8, 4.6, 1.5, 'Iris-versicolor'],\n",
       "       [5.7, 2.8, 4.5, 1.3, 'Iris-versicolor'],\n",
       "       [6.3, 3.3, 4.7, 1.6, 'Iris-versicolor'],\n",
       "       [4.9, 2.4, 3.3, 1.0, 'Iris-versicolor'],\n",
       "       [6.6, 2.9, 4.6, 1.3, 'Iris-versicolor'],\n",
       "       [5.2, 2.7, 3.9, 1.4, 'Iris-versicolor'],\n",
       "       [5.0, 2.0, 3.5, 1.0, 'Iris-versicolor'],\n",
       "       [5.9, 3.0, 4.2, 1.5, 'Iris-versicolor'],\n",
       "       [6.0, 2.2, 4.0, 1.0, 'Iris-versicolor'],\n",
       "       [6.1, 2.9, 4.7, 1.4, 'Iris-versicolor'],\n",
       "       [5.6, 2.9, 3.6, 1.3, 'Iris-versicolor'],\n",
       "       [6.7, 3.1, 4.4, 1.4, 'Iris-versicolor'],\n",
       "       [5.6, 3.0, 4.5, 1.5, 'Iris-versicolor'],\n",
       "       [5.8, 2.7, 4.1, 1.0, 'Iris-versicolor'],\n",
       "       [6.2, 2.2, 4.5, 1.5, 'Iris-versicolor'],\n",
       "       [5.6, 2.5, 3.9, 1.1, 'Iris-versicolor'],\n",
       "       [5.9, 3.2, 4.8, 1.8, 'Iris-versicolor'],\n",
       "       [6.1, 2.8, 4.0, 1.3, 'Iris-versicolor'],\n",
       "       [6.3, 2.5, 4.9, 1.5, 'Iris-versicolor'],\n",
       "       [6.1, 2.8, 4.7, 1.2, 'Iris-versicolor'],\n",
       "       [6.4, 2.9, 4.3, 1.3, 'Iris-versicolor'],\n",
       "       [6.6, 3.0, 4.4, 1.4, 'Iris-versicolor'],\n",
       "       [6.8, 2.8, 4.8, 1.4, 'Iris-versicolor'],\n",
       "       [6.7, 3.0, 5.0, 1.7, 'Iris-versicolor'],\n",
       "       [6.0, 2.9, 4.5, 1.5, 'Iris-versicolor'],\n",
       "       [5.7, 2.6, 3.5, 1.0, 'Iris-versicolor'],\n",
       "       [5.5, 2.4, 3.8, 1.1, 'Iris-versicolor'],\n",
       "       [5.5, 2.4, 3.7, 1.0, 'Iris-versicolor'],\n",
       "       [5.8, 2.7, 3.9, 1.2, 'Iris-versicolor'],\n",
       "       [6.0, 2.7, 5.1, 1.6, 'Iris-versicolor'],\n",
       "       [5.4, 3.0, 4.5, 1.5, 'Iris-versicolor'],\n",
       "       [6.0, 3.4, 4.5, 1.6, 'Iris-versicolor'],\n",
       "       [6.7, 3.1, 4.7, 1.5, 'Iris-versicolor'],\n",
       "       [6.3, 2.3, 4.4, 1.3, 'Iris-versicolor'],\n",
       "       [5.6, 3.0, 4.1, 1.3, 'Iris-versicolor'],\n",
       "       [5.5, 2.5, 4.0, 1.3, 'Iris-versicolor'],\n",
       "       [5.5, 2.6, 4.4, 1.2, 'Iris-versicolor'],\n",
       "       [6.1, 3.0, 4.6, 1.4, 'Iris-versicolor'],\n",
       "       [5.8, 2.6, 4.0, 1.2, 'Iris-versicolor'],\n",
       "       [5.0, 2.3, 3.3, 1.0, 'Iris-versicolor'],\n",
       "       [5.6, 2.7, 4.2, 1.3, 'Iris-versicolor'],\n",
       "       [5.7, 3.0, 4.2, 1.2, 'Iris-versicolor'],\n",
       "       [5.7, 2.9, 4.2, 1.3, 'Iris-versicolor'],\n",
       "       [6.2, 2.9, 4.3, 1.3, 'Iris-versicolor'],\n",
       "       [5.1, 2.5, 3.0, 1.1, 'Iris-versicolor'],\n",
       "       [5.7, 2.8, 4.1, 1.3, 'Iris-versicolor'],\n",
       "       [6.3, 3.3, 6.0, 2.5, 'Iris-virginica'],\n",
       "       [5.8, 2.7, 5.1, 1.9, 'Iris-virginica'],\n",
       "       [7.1, 3.0, 5.9, 2.1, 'Iris-virginica'],\n",
       "       [6.3, 2.9, 5.6, 1.8, 'Iris-virginica'],\n",
       "       [6.5, 3.0, 5.8, 2.2, 'Iris-virginica'],\n",
       "       [7.6, 3.0, 6.6, 2.1, 'Iris-virginica'],\n",
       "       [4.9, 2.5, 4.5, 1.7, 'Iris-virginica'],\n",
       "       [7.3, 2.9, 6.3, 1.8, 'Iris-virginica'],\n",
       "       [6.7, 2.5, 5.8, 1.8, 'Iris-virginica'],\n",
       "       [7.2, 3.6, 6.1, 2.5, 'Iris-virginica'],\n",
       "       [6.5, 3.2, 5.1, 2.0, 'Iris-virginica'],\n",
       "       [6.4, 2.7, 5.3, 1.9, 'Iris-virginica'],\n",
       "       [6.8, 3.0, 5.5, 2.1, 'Iris-virginica'],\n",
       "       [5.7, 2.5, 5.0, 2.0, 'Iris-virginica'],\n",
       "       [5.8, 2.8, 5.1, 2.4, 'Iris-virginica'],\n",
       "       [6.4, 3.2, 5.3, 2.3, 'Iris-virginica'],\n",
       "       [6.5, 3.0, 5.5, 1.8, 'Iris-virginica'],\n",
       "       [7.7, 3.8, 6.7, 2.2, 'Iris-virginica'],\n",
       "       [7.7, 2.6, 6.9, 2.3, 'Iris-virginica'],\n",
       "       [6.0, 2.2, 5.0, 1.5, 'Iris-virginica'],\n",
       "       [6.9, 3.2, 5.7, 2.3, 'Iris-virginica'],\n",
       "       [5.6, 2.8, 4.9, 2.0, 'Iris-virginica'],\n",
       "       [7.7, 2.8, 6.7, 2.0, 'Iris-virginica'],\n",
       "       [6.3, 2.7, 4.9, 1.8, 'Iris-virginica'],\n",
       "       [6.7, 3.3, 5.7, 2.1, 'Iris-virginica'],\n",
       "       [7.2, 3.2, 6.0, 1.8, 'Iris-virginica'],\n",
       "       [6.2, 2.8, 4.8, 1.8, 'Iris-virginica'],\n",
       "       [6.1, 3.0, 4.9, 1.8, 'Iris-virginica'],\n",
       "       [6.4, 2.8, 5.6, 2.1, 'Iris-virginica'],\n",
       "       [7.2, 3.0, 5.8, 1.6, 'Iris-virginica'],\n",
       "       [7.4, 2.8, 6.1, 1.9, 'Iris-virginica'],\n",
       "       [7.9, 3.8, 6.4, 2.0, 'Iris-virginica'],\n",
       "       [6.4, 2.8, 5.6, 2.2, 'Iris-virginica'],\n",
       "       [6.3, 2.8, 5.1, 1.5, 'Iris-virginica'],\n",
       "       [6.1, 2.6, 5.6, 1.4, 'Iris-virginica'],\n",
       "       [7.7, 3.0, 6.1, 2.3, 'Iris-virginica'],\n",
       "       [6.3, 3.4, 5.6, 2.4, 'Iris-virginica'],\n",
       "       [6.4, 3.1, 5.5, 1.8, 'Iris-virginica'],\n",
       "       [6.0, 3.0, 4.8, 1.8, 'Iris-virginica'],\n",
       "       [6.9, 3.1, 5.4, 2.1, 'Iris-virginica'],\n",
       "       [6.7, 3.1, 5.6, 2.4, 'Iris-virginica'],\n",
       "       [6.9, 3.1, 5.1, 2.3, 'Iris-virginica'],\n",
       "       [5.8, 2.7, 5.1, 1.9, 'Iris-virginica'],\n",
       "       [6.8, 3.2, 5.9, 2.3, 'Iris-virginica'],\n",
       "       [6.7, 3.3, 5.7, 2.5, 'Iris-virginica'],\n",
       "       [6.7, 3.0, 5.2, 2.3, 'Iris-virginica'],\n",
       "       [6.3, 2.5, 5.0, 1.9, 'Iris-virginica'],\n",
       "       [6.5, 3.0, 5.2, 2.0, 'Iris-virginica'],\n",
       "       [6.2, 3.4, 5.4, 2.3, 'Iris-virginica'],\n",
       "       [5.9, 3.0, 5.1, 1.8, 'Iris-virginica']], dtype=object)"
      ]
     },
     "execution_count": 4,
     "metadata": {
      "tags": []
     },
     "output_type": "execute_result"
    }
   ],
   "source": [
    "iris = dataframe.values\n",
    "iris"
   ]
  },
  {
   "cell_type": "code",
   "execution_count": 0,
   "metadata": {
    "colab": {},
    "colab_type": "code",
    "id": "DHXxYFAxC745"
   },
   "outputs": [],
   "source": [
    "df = dataframe.sample(frac=1)"
   ]
  },
  {
   "cell_type": "code",
   "execution_count": 6,
   "metadata": {
    "colab": {
     "base_uri": "https://localhost:8080/",
     "height": 1000
    },
    "colab_type": "code",
    "id": "LGR8MepBC72R",
    "outputId": "639a4f26-811a-4a5e-dabb-786f444ecade"
   },
   "outputs": [
    {
     "data": {
      "text/plain": [
       "array([[5.7, 3.0, 4.2, 1.2, 'Iris-versicolor'],\n",
       "       [6.4, 2.8, 5.6, 2.2, 'Iris-virginica'],\n",
       "       [4.9, 3.1, 1.5, 0.1, 'Iris-setosa'],\n",
       "       [5.5, 2.4, 3.8, 1.1, 'Iris-versicolor'],\n",
       "       [6.6, 3.0, 4.4, 1.4, 'Iris-versicolor'],\n",
       "       [4.3, 3.0, 1.1, 0.1, 'Iris-setosa'],\n",
       "       [6.1, 3.0, 4.6, 1.4, 'Iris-versicolor'],\n",
       "       [5.0, 3.3, 1.4, 0.2, 'Iris-setosa'],\n",
       "       [7.9, 3.8, 6.4, 2.0, 'Iris-virginica'],\n",
       "       [5.8, 2.7, 4.1, 1.0, 'Iris-versicolor'],\n",
       "       [5.4, 3.4, 1.7, 0.2, 'Iris-setosa'],\n",
       "       [6.0, 2.9, 4.5, 1.5, 'Iris-versicolor'],\n",
       "       [6.4, 3.2, 4.5, 1.5, 'Iris-versicolor'],\n",
       "       [6.7, 3.1, 5.6, 2.4, 'Iris-virginica'],\n",
       "       [5.7, 2.8, 4.1, 1.3, 'Iris-versicolor'],\n",
       "       [7.7, 2.8, 6.7, 2.0, 'Iris-virginica'],\n",
       "       [6.0, 3.4, 4.5, 1.6, 'Iris-versicolor'],\n",
       "       [5.4, 3.7, 1.5, 0.2, 'Iris-setosa'],\n",
       "       [6.7, 3.0, 5.0, 1.7, 'Iris-versicolor'],\n",
       "       [5.0, 3.5, 1.3, 0.3, 'Iris-setosa'],\n",
       "       [6.7, 3.3, 5.7, 2.5, 'Iris-virginica'],\n",
       "       [7.2, 3.0, 5.8, 1.6, 'Iris-virginica'],\n",
       "       [5.7, 2.8, 4.5, 1.3, 'Iris-versicolor'],\n",
       "       [6.4, 2.8, 5.6, 2.1, 'Iris-virginica'],\n",
       "       [6.0, 3.0, 4.8, 1.8, 'Iris-virginica'],\n",
       "       [5.5, 4.2, 1.4, 0.2, 'Iris-setosa'],\n",
       "       [7.7, 3.8, 6.7, 2.2, 'Iris-virginica'],\n",
       "       [6.9, 3.1, 5.1, 2.3, 'Iris-virginica'],\n",
       "       [5.0, 3.2, 1.2, 0.2, 'Iris-setosa'],\n",
       "       [6.1, 2.8, 4.0, 1.3, 'Iris-versicolor'],\n",
       "       [4.9, 3.0, 1.4, 0.2, 'Iris-setosa'],\n",
       "       [6.5, 3.2, 5.1, 2.0, 'Iris-virginica'],\n",
       "       [7.1, 3.0, 5.9, 2.1, 'Iris-virginica'],\n",
       "       [7.7, 3.0, 6.1, 2.3, 'Iris-virginica'],\n",
       "       [5.9, 3.2, 4.8, 1.8, 'Iris-versicolor'],\n",
       "       [5.6, 2.8, 4.9, 2.0, 'Iris-virginica'],\n",
       "       [7.3, 2.9, 6.3, 1.8, 'Iris-virginica'],\n",
       "       [4.9, 2.4, 3.3, 1.0, 'Iris-versicolor'],\n",
       "       [7.7, 2.6, 6.9, 2.3, 'Iris-virginica'],\n",
       "       [4.5, 2.3, 1.3, 0.3, 'Iris-setosa'],\n",
       "       [4.4, 3.2, 1.3, 0.2, 'Iris-setosa'],\n",
       "       [6.8, 3.0, 5.5, 2.1, 'Iris-virginica'],\n",
       "       [7.2, 3.6, 6.1, 2.5, 'Iris-virginica'],\n",
       "       [5.5, 2.4, 3.7, 1.0, 'Iris-versicolor'],\n",
       "       [5.8, 2.7, 5.1, 1.9, 'Iris-virginica'],\n",
       "       [4.8, 3.0, 1.4, 0.1, 'Iris-setosa'],\n",
       "       [6.3, 3.4, 5.6, 2.4, 'Iris-virginica'],\n",
       "       [5.0, 3.0, 1.6, 0.2, 'Iris-setosa'],\n",
       "       [5.7, 4.4, 1.5, 0.4, 'Iris-setosa'],\n",
       "       [6.4, 3.2, 5.3, 2.3, 'Iris-virginica'],\n",
       "       [6.3, 2.5, 5.0, 1.9, 'Iris-virginica'],\n",
       "       [5.8, 2.6, 4.0, 1.2, 'Iris-versicolor'],\n",
       "       [4.7, 3.2, 1.3, 0.2, 'Iris-setosa'],\n",
       "       [5.2, 2.7, 3.9, 1.4, 'Iris-versicolor'],\n",
       "       [5.2, 3.5, 1.5, 0.2, 'Iris-setosa'],\n",
       "       [5.5, 2.6, 4.4, 1.2, 'Iris-versicolor'],\n",
       "       [6.8, 2.8, 4.8, 1.4, 'Iris-versicolor'],\n",
       "       [5.1, 3.8, 1.6, 0.2, 'Iris-setosa'],\n",
       "       [5.6, 2.7, 4.2, 1.3, 'Iris-versicolor'],\n",
       "       [4.8, 3.4, 1.6, 0.2, 'Iris-setosa'],\n",
       "       [6.9, 3.2, 5.7, 2.3, 'Iris-virginica'],\n",
       "       [6.7, 3.3, 5.7, 2.1, 'Iris-virginica'],\n",
       "       [6.1, 3.0, 4.9, 1.8, 'Iris-virginica'],\n",
       "       [6.3, 2.3, 4.4, 1.3, 'Iris-versicolor'],\n",
       "       [5.0, 2.0, 3.5, 1.0, 'Iris-versicolor'],\n",
       "       [5.9, 3.0, 5.1, 1.8, 'Iris-virginica'],\n",
       "       [6.3, 2.8, 5.1, 1.5, 'Iris-virginica'],\n",
       "       [5.1, 2.5, 3.0, 1.1, 'Iris-versicolor'],\n",
       "       [5.1, 3.4, 1.5, 0.2, 'Iris-setosa'],\n",
       "       [5.2, 4.1, 1.5, 0.1, 'Iris-setosa'],\n",
       "       [5.1, 3.8, 1.5, 0.3, 'Iris-setosa'],\n",
       "       [5.7, 2.5, 5.0, 2.0, 'Iris-virginica'],\n",
       "       [4.4, 3.0, 1.3, 0.2, 'Iris-setosa'],\n",
       "       [7.2, 3.2, 6.0, 1.8, 'Iris-virginica'],\n",
       "       [5.1, 3.5, 1.4, 0.3, 'Iris-setosa'],\n",
       "       [6.2, 2.9, 4.3, 1.3, 'Iris-versicolor'],\n",
       "       [6.4, 2.7, 5.3, 1.9, 'Iris-virginica'],\n",
       "       [4.6, 3.4, 1.4, 0.3, 'Iris-setosa'],\n",
       "       [6.1, 2.6, 5.6, 1.4, 'Iris-virginica'],\n",
       "       [5.4, 3.0, 4.5, 1.5, 'Iris-versicolor'],\n",
       "       [5.9, 3.0, 4.2, 1.5, 'Iris-versicolor'],\n",
       "       [4.9, 3.1, 1.5, 0.1, 'Iris-setosa'],\n",
       "       [6.3, 2.9, 5.6, 1.8, 'Iris-virginica'],\n",
       "       [6.7, 3.1, 4.4, 1.4, 'Iris-versicolor'],\n",
       "       [5.5, 3.5, 1.3, 0.2, 'Iris-setosa'],\n",
       "       [5.2, 3.4, 1.4, 0.2, 'Iris-setosa'],\n",
       "       [4.7, 3.2, 1.6, 0.2, 'Iris-setosa'],\n",
       "       [6.4, 2.9, 4.3, 1.3, 'Iris-versicolor'],\n",
       "       [6.1, 2.8, 4.7, 1.2, 'Iris-versicolor'],\n",
       "       [5.0, 2.3, 3.3, 1.0, 'Iris-versicolor'],\n",
       "       [4.9, 3.1, 1.5, 0.1, 'Iris-setosa'],\n",
       "       [7.6, 3.0, 6.6, 2.1, 'Iris-virginica'],\n",
       "       [7.0, 3.2, 4.7, 1.4, 'Iris-versicolor'],\n",
       "       [6.2, 2.8, 4.8, 1.8, 'Iris-virginica'],\n",
       "       [7.4, 2.8, 6.1, 1.9, 'Iris-virginica'],\n",
       "       [6.5, 3.0, 5.5, 1.8, 'Iris-virginica'],\n",
       "       [5.0, 3.5, 1.6, 0.6, 'Iris-setosa'],\n",
       "       [5.8, 2.8, 5.1, 2.4, 'Iris-virginica'],\n",
       "       [4.6, 3.6, 1.0, 0.2, 'Iris-setosa'],\n",
       "       [6.4, 3.1, 5.5, 1.8, 'Iris-virginica'],\n",
       "       [4.8, 3.0, 1.4, 0.3, 'Iris-setosa'],\n",
       "       [5.1, 3.8, 1.9, 0.4, 'Iris-setosa'],\n",
       "       [4.8, 3.4, 1.9, 0.2, 'Iris-setosa'],\n",
       "       [6.6, 2.9, 4.6, 1.3, 'Iris-versicolor'],\n",
       "       [5.4, 3.9, 1.7, 0.4, 'Iris-setosa'],\n",
       "       [4.9, 2.5, 4.5, 1.7, 'Iris-virginica'],\n",
       "       [4.6, 3.1, 1.5, 0.2, 'Iris-setosa'],\n",
       "       [6.5, 2.8, 4.6, 1.5, 'Iris-versicolor'],\n",
       "       [5.8, 2.7, 3.9, 1.2, 'Iris-versicolor'],\n",
       "       [5.3, 3.7, 1.5, 0.2, 'Iris-setosa'],\n",
       "       [6.0, 2.2, 4.0, 1.0, 'Iris-versicolor'],\n",
       "       [5.7, 2.6, 3.5, 1.0, 'Iris-versicolor'],\n",
       "       [6.9, 3.1, 4.9, 1.5, 'Iris-versicolor'],\n",
       "       [5.1, 3.3, 1.7, 0.5, 'Iris-setosa'],\n",
       "       [5.0, 3.4, 1.5, 0.2, 'Iris-setosa'],\n",
       "       [5.6, 3.0, 4.5, 1.5, 'Iris-versicolor'],\n",
       "       [4.8, 3.1, 1.6, 0.2, 'Iris-setosa'],\n",
       "       [5.7, 2.9, 4.2, 1.3, 'Iris-versicolor'],\n",
       "       [5.8, 2.7, 5.1, 1.9, 'Iris-virginica'],\n",
       "       [6.9, 3.1, 5.4, 2.1, 'Iris-virginica'],\n",
       "       [5.7, 3.8, 1.7, 0.3, 'Iris-setosa'],\n",
       "       [5.0, 3.6, 1.4, 0.2, 'Iris-setosa'],\n",
       "       [5.4, 3.4, 1.5, 0.4, 'Iris-setosa'],\n",
       "       [6.3, 2.5, 4.9, 1.5, 'Iris-versicolor'],\n",
       "       [5.1, 3.5, 1.4, 0.2, 'Iris-setosa'],\n",
       "       [6.5, 3.0, 5.8, 2.2, 'Iris-virginica'],\n",
       "       [5.8, 4.0, 1.2, 0.2, 'Iris-setosa'],\n",
       "       [4.6, 3.2, 1.4, 0.2, 'Iris-setosa'],\n",
       "       [6.3, 2.7, 4.9, 1.8, 'Iris-virginica'],\n",
       "       [5.6, 2.9, 3.6, 1.3, 'Iris-versicolor'],\n",
       "       [6.1, 2.9, 4.7, 1.4, 'Iris-versicolor'],\n",
       "       [6.0, 2.2, 5.0, 1.5, 'Iris-virginica'],\n",
       "       [6.3, 3.3, 4.7, 1.6, 'Iris-versicolor'],\n",
       "       [6.2, 2.2, 4.5, 1.5, 'Iris-versicolor'],\n",
       "       [5.5, 2.3, 4.0, 1.3, 'Iris-versicolor'],\n",
       "       [6.0, 2.7, 5.1, 1.6, 'Iris-versicolor'],\n",
       "       [5.6, 2.5, 3.9, 1.1, 'Iris-versicolor'],\n",
       "       [5.5, 2.5, 4.0, 1.3, 'Iris-versicolor'],\n",
       "       [6.7, 2.5, 5.8, 1.8, 'Iris-virginica'],\n",
       "       [5.4, 3.9, 1.3, 0.4, 'Iris-setosa'],\n",
       "       [6.3, 3.3, 6.0, 2.5, 'Iris-virginica'],\n",
       "       [4.4, 2.9, 1.4, 0.2, 'Iris-setosa'],\n",
       "       [6.8, 3.2, 5.9, 2.3, 'Iris-virginica'],\n",
       "       [6.7, 3.1, 4.7, 1.5, 'Iris-versicolor'],\n",
       "       [5.0, 3.4, 1.6, 0.4, 'Iris-setosa'],\n",
       "       [5.6, 3.0, 4.1, 1.3, 'Iris-versicolor'],\n",
       "       [6.5, 3.0, 5.2, 2.0, 'Iris-virginica'],\n",
       "       [6.2, 3.4, 5.4, 2.3, 'Iris-virginica'],\n",
       "       [6.7, 3.0, 5.2, 2.3, 'Iris-virginica'],\n",
       "       [5.1, 3.7, 1.5, 0.4, 'Iris-setosa']], dtype=object)"
      ]
     },
     "execution_count": 6,
     "metadata": {
      "tags": []
     },
     "output_type": "execute_result"
    }
   ],
   "source": [
    "iris = df.values\n",
    "iris"
   ]
  },
  {
   "cell_type": "code",
   "execution_count": 0,
   "metadata": {
    "colab": {},
    "colab_type": "code",
    "id": "COPJwPt9xUbY"
   },
   "outputs": [],
   "source": [
    "x_train = iris[:90,:4].astype('float') \n",
    "y_train = iris[:90,4]\n",
    "x_test = iris[90:,:4].astype('float')\n",
    "y_test = iris[90:,4]"
   ]
  },
  {
   "cell_type": "code",
   "execution_count": 8,
   "metadata": {
    "colab": {
     "base_uri": "https://localhost:8080/",
     "height": 34
    },
    "colab_type": "code",
    "id": "kShQTLzOy280",
    "outputId": "273da07b-d1fb-4ef0-da3f-2bb5344d9f5b"
   },
   "outputs": [
    {
     "data": {
      "text/plain": [
       "(90, 4)"
      ]
     },
     "execution_count": 8,
     "metadata": {
      "tags": []
     },
     "output_type": "execute_result"
    }
   ],
   "source": [
    "x_train.shape"
   ]
  },
  {
   "cell_type": "code",
   "execution_count": 9,
   "metadata": {
    "colab": {
     "base_uri": "https://localhost:8080/",
     "height": 34
    },
    "colab_type": "code",
    "id": "xaa40p3by4WR",
    "outputId": "d752db55-8eb1-4a36-99dc-1e36ab96f611"
   },
   "outputs": [
    {
     "data": {
      "text/plain": [
       "(90,)"
      ]
     },
     "execution_count": 9,
     "metadata": {
      "tags": []
     },
     "output_type": "execute_result"
    }
   ],
   "source": [
    "y_train.shape"
   ]
  },
  {
   "cell_type": "code",
   "execution_count": 10,
   "metadata": {
    "colab": {
     "base_uri": "https://localhost:8080/",
     "height": 34
    },
    "colab_type": "code",
    "id": "kiswivvLzCIs",
    "outputId": "aa56b7fa-321d-406a-ae59-d221093fec9c"
   },
   "outputs": [
    {
     "data": {
      "text/plain": [
       "(60, 4)"
      ]
     },
     "execution_count": 10,
     "metadata": {
      "tags": []
     },
     "output_type": "execute_result"
    }
   ],
   "source": [
    "x_test.shape"
   ]
  },
  {
   "cell_type": "code",
   "execution_count": 11,
   "metadata": {
    "colab": {
     "base_uri": "https://localhost:8080/",
     "height": 34
    },
    "colab_type": "code",
    "id": "Sg17yOBb1FQY",
    "outputId": "221341b1-fe3d-4c17-ae00-b0c986e2b361"
   },
   "outputs": [
    {
     "data": {
      "text/plain": [
       "(60,)"
      ]
     },
     "execution_count": 11,
     "metadata": {
      "tags": []
     },
     "output_type": "execute_result"
    }
   ],
   "source": [
    "y_test.shape"
   ]
  },
  {
   "cell_type": "code",
   "execution_count": 0,
   "metadata": {
    "colab": {},
    "colab_type": "code",
    "id": "bfC6Bg8jAdlB"
   },
   "outputs": [],
   "source": [
    "from sklearn.preprocessing import LabelEncoder\n",
    "# encode class values as integers\n",
    "le = LabelEncoder()\n",
    "encoded_Y = le.fit_transform(y_train)\n",
    "encoded_y_train = tf.keras.utils.to_categorical(encoded_Y)\n",
    "encoded_Y = le.fit_transform(y_test)\n",
    "encoded_y_test = tf.keras.utils.to_categorical(encoded_Y)"
   ]
  },
  {
   "cell_type": "code",
   "execution_count": 13,
   "metadata": {
    "colab": {
     "base_uri": "https://localhost:8080/",
     "height": 67
    },
    "colab_type": "code",
    "id": "8lWGCQzhBG6E",
    "outputId": "9629a71e-6d56-4533-f481-e8c3de0eb707"
   },
   "outputs": [
    {
     "data": {
      "text/plain": [
       "array([0, 2, 1, 2, 2, 2, 0, 2, 0, 2, 0, 0, 0, 1, 0, 2, 0, 1, 1, 0, 1, 1,\n",
       "       1, 0, 0, 1, 0, 1, 2, 2, 0, 0, 0, 1, 0, 2, 0, 0, 2, 1, 1, 2, 1, 1,\n",
       "       1, 1, 1, 1, 2, 0, 2, 0, 2, 1, 0, 1, 2, 2, 2, 0])"
      ]
     },
     "execution_count": 13,
     "metadata": {
      "tags": []
     },
     "output_type": "execute_result"
    }
   ],
   "source": [
    "#encoded_y_train.\n",
    "encoded_Y"
   ]
  },
  {
   "cell_type": "code",
   "execution_count": 44,
   "metadata": {
    "colab": {
     "base_uri": "https://localhost:8080/",
     "height": 319
    },
    "colab_type": "code",
    "id": "4hhUDokrBdw2",
    "outputId": "67a4a07c-5ae6-448d-bcce-b7ab1d2a1dea"
   },
   "outputs": [
    {
     "data": {
      "text/plain": [
       "array(['Iris-setosa', 'Iris-virginica', 'Iris-versicolor',\n",
       "       'Iris-virginica', 'Iris-virginica', 'Iris-virginica',\n",
       "       'Iris-setosa', 'Iris-virginica', 'Iris-setosa', 'Iris-virginica',\n",
       "       'Iris-setosa', 'Iris-setosa', 'Iris-setosa', 'Iris-versicolor',\n",
       "       'Iris-setosa', 'Iris-virginica', 'Iris-setosa', 'Iris-versicolor',\n",
       "       'Iris-versicolor', 'Iris-setosa', 'Iris-versicolor',\n",
       "       'Iris-versicolor', 'Iris-versicolor', 'Iris-setosa', 'Iris-setosa',\n",
       "       'Iris-versicolor', 'Iris-setosa', 'Iris-versicolor',\n",
       "       'Iris-virginica', 'Iris-virginica', 'Iris-setosa', 'Iris-setosa',\n",
       "       'Iris-setosa', 'Iris-versicolor', 'Iris-setosa', 'Iris-virginica',\n",
       "       'Iris-setosa', 'Iris-setosa', 'Iris-virginica', 'Iris-versicolor',\n",
       "       'Iris-versicolor', 'Iris-virginica', 'Iris-versicolor',\n",
       "       'Iris-versicolor', 'Iris-versicolor', 'Iris-versicolor',\n",
       "       'Iris-versicolor', 'Iris-versicolor', 'Iris-virginica',\n",
       "       'Iris-setosa', 'Iris-virginica', 'Iris-setosa', 'Iris-virginica',\n",
       "       'Iris-versicolor', 'Iris-setosa', 'Iris-versicolor',\n",
       "       'Iris-virginica', 'Iris-virginica', 'Iris-virginica',\n",
       "       'Iris-setosa'], dtype=object)"
      ]
     },
     "execution_count": 44,
     "metadata": {
      "tags": []
     },
     "output_type": "execute_result"
    }
   ],
   "source": [
    "y_test"
   ]
  },
  {
   "cell_type": "code",
   "execution_count": 45,
   "metadata": {
    "colab": {
     "base_uri": "https://localhost:8080/",
     "height": 1000
    },
    "colab_type": "code",
    "id": "Pr4Rxhk1BdvT",
    "outputId": "cc170c4f-4072-415f-f1c7-8c476a17b146"
   },
   "outputs": [
    {
     "data": {
      "text/plain": [
       "array([[1., 0., 0.],\n",
       "       [0., 0., 1.],\n",
       "       [0., 1., 0.],\n",
       "       [0., 0., 1.],\n",
       "       [0., 0., 1.],\n",
       "       [0., 0., 1.],\n",
       "       [1., 0., 0.],\n",
       "       [0., 0., 1.],\n",
       "       [1., 0., 0.],\n",
       "       [0., 0., 1.],\n",
       "       [1., 0., 0.],\n",
       "       [1., 0., 0.],\n",
       "       [1., 0., 0.],\n",
       "       [0., 1., 0.],\n",
       "       [1., 0., 0.],\n",
       "       [0., 0., 1.],\n",
       "       [1., 0., 0.],\n",
       "       [0., 1., 0.],\n",
       "       [0., 1., 0.],\n",
       "       [1., 0., 0.],\n",
       "       [0., 1., 0.],\n",
       "       [0., 1., 0.],\n",
       "       [0., 1., 0.],\n",
       "       [1., 0., 0.],\n",
       "       [1., 0., 0.],\n",
       "       [0., 1., 0.],\n",
       "       [1., 0., 0.],\n",
       "       [0., 1., 0.],\n",
       "       [0., 0., 1.],\n",
       "       [0., 0., 1.],\n",
       "       [1., 0., 0.],\n",
       "       [1., 0., 0.],\n",
       "       [1., 0., 0.],\n",
       "       [0., 1., 0.],\n",
       "       [1., 0., 0.],\n",
       "       [0., 0., 1.],\n",
       "       [1., 0., 0.],\n",
       "       [1., 0., 0.],\n",
       "       [0., 0., 1.],\n",
       "       [0., 1., 0.],\n",
       "       [0., 1., 0.],\n",
       "       [0., 0., 1.],\n",
       "       [0., 1., 0.],\n",
       "       [0., 1., 0.],\n",
       "       [0., 1., 0.],\n",
       "       [0., 1., 0.],\n",
       "       [0., 1., 0.],\n",
       "       [0., 1., 0.],\n",
       "       [0., 0., 1.],\n",
       "       [1., 0., 0.],\n",
       "       [0., 0., 1.],\n",
       "       [1., 0., 0.],\n",
       "       [0., 0., 1.],\n",
       "       [0., 1., 0.],\n",
       "       [1., 0., 0.],\n",
       "       [0., 1., 0.],\n",
       "       [0., 0., 1.],\n",
       "       [0., 0., 1.],\n",
       "       [0., 0., 1.],\n",
       "       [1., 0., 0.]], dtype=float32)"
      ]
     },
     "execution_count": 45,
     "metadata": {
      "tags": []
     },
     "output_type": "execute_result"
    }
   ],
   "source": [
    "encoded_y_test"
   ]
  },
  {
   "cell_type": "code",
   "execution_count": 0,
   "metadata": {
    "colab": {},
    "colab_type": "code",
    "id": "ZlqyMWJI1IcS"
   },
   "outputs": [],
   "source": [
    "model = tf.keras.models.Sequential([\n",
    "  tf.keras.layers.Input(shape=(4,)),\n",
    "  #tf.keras.layers.Dropout(0.001),\n",
    "  tf.keras.layers.Dense(8, activation='relu'),\n",
    "  tf.keras.layers.Dense(3, activation='softmax')\n",
    "])"
   ]
  },
  {
   "cell_type": "code",
   "execution_count": 0,
   "metadata": {
    "colab": {},
    "colab_type": "code",
    "id": "19vuLsr31oKb"
   },
   "outputs": [],
   "source": [
    "model.compile(optimizer='adam',\n",
    "              loss='categorical_crossentropy',\n",
    "              metrics=['accuracy'])"
   ]
  },
  {
   "cell_type": "code",
   "execution_count": 28,
   "metadata": {
    "colab": {
     "base_uri": "https://localhost:8080/",
     "height": 1000
    },
    "colab_type": "code",
    "id": "8slMnnXuE5oD",
    "outputId": "95cde7d1-dcec-4930-fec7-3d8e4e0080c3"
   },
   "outputs": [
    {
     "name": "stdout",
     "output_type": "stream",
     "text": [
      "Train on 90 samples\n",
      "Epoch 1/200\n",
      "90/90 [==============================] - 0s 5ms/sample - loss: 4.2758 - accuracy: 0.3556\n",
      "Epoch 2/200\n",
      "90/90 [==============================] - 0s 172us/sample - loss: 4.1739 - accuracy: 0.3556\n",
      "Epoch 3/200\n",
      "90/90 [==============================] - 0s 184us/sample - loss: 4.0770 - accuracy: 0.3556\n",
      "Epoch 4/200\n",
      "90/90 [==============================] - 0s 190us/sample - loss: 3.9737 - accuracy: 0.3556\n",
      "Epoch 5/200\n",
      "90/90 [==============================] - 0s 180us/sample - loss: 3.8742 - accuracy: 0.3556\n",
      "Epoch 6/200\n",
      "90/90 [==============================] - 0s 176us/sample - loss: 3.7736 - accuracy: 0.3556\n",
      "Epoch 7/200\n",
      "90/90 [==============================] - 0s 173us/sample - loss: 3.6673 - accuracy: 0.3556\n",
      "Epoch 8/200\n",
      "90/90 [==============================] - 0s 155us/sample - loss: 3.5699 - accuracy: 0.3556\n",
      "Epoch 9/200\n",
      "90/90 [==============================] - 0s 159us/sample - loss: 3.4707 - accuracy: 0.3556\n",
      "Epoch 10/200\n",
      "90/90 [==============================] - 0s 162us/sample - loss: 3.3647 - accuracy: 0.3556\n",
      "Epoch 11/200\n",
      "90/90 [==============================] - 0s 179us/sample - loss: 3.2627 - accuracy: 0.3556\n",
      "Epoch 12/200\n",
      "90/90 [==============================] - 0s 190us/sample - loss: 3.1592 - accuracy: 0.3556\n",
      "Epoch 13/200\n",
      "90/90 [==============================] - 0s 185us/sample - loss: 3.0592 - accuracy: 0.3556\n",
      "Epoch 14/200\n",
      "90/90 [==============================] - 0s 179us/sample - loss: 2.9517 - accuracy: 0.3556\n",
      "Epoch 15/200\n",
      "90/90 [==============================] - 0s 208us/sample - loss: 2.8479 - accuracy: 0.3556\n",
      "Epoch 16/200\n",
      "90/90 [==============================] - 0s 242us/sample - loss: 2.7461 - accuracy: 0.3556\n",
      "Epoch 17/200\n",
      "90/90 [==============================] - 0s 179us/sample - loss: 2.6433 - accuracy: 0.3556\n",
      "Epoch 18/200\n",
      "90/90 [==============================] - 0s 174us/sample - loss: 2.5369 - accuracy: 0.3556\n",
      "Epoch 19/200\n",
      "90/90 [==============================] - 0s 189us/sample - loss: 2.4332 - accuracy: 0.3556\n",
      "Epoch 20/200\n",
      "90/90 [==============================] - 0s 187us/sample - loss: 2.3350 - accuracy: 0.3556\n",
      "Epoch 21/200\n",
      "90/90 [==============================] - 0s 166us/sample - loss: 2.2330 - accuracy: 0.3556\n",
      "Epoch 22/200\n",
      "90/90 [==============================] - 0s 169us/sample - loss: 2.1349 - accuracy: 0.3556\n",
      "Epoch 23/200\n",
      "90/90 [==============================] - 0s 167us/sample - loss: 2.0445 - accuracy: 0.3556\n",
      "Epoch 24/200\n",
      "90/90 [==============================] - 0s 193us/sample - loss: 1.9442 - accuracy: 0.3556\n",
      "Epoch 25/200\n",
      "90/90 [==============================] - 0s 195us/sample - loss: 1.8561 - accuracy: 0.3556\n",
      "Epoch 26/200\n",
      "90/90 [==============================] - 0s 267us/sample - loss: 1.7617 - accuracy: 0.3556\n",
      "Epoch 27/200\n",
      "90/90 [==============================] - 0s 183us/sample - loss: 1.6746 - accuracy: 0.3556\n",
      "Epoch 28/200\n",
      "90/90 [==============================] - 0s 148us/sample - loss: 1.5979 - accuracy: 0.3556\n",
      "Epoch 29/200\n",
      "90/90 [==============================] - 0s 166us/sample - loss: 1.5230 - accuracy: 0.3556\n",
      "Epoch 30/200\n",
      "90/90 [==============================] - 0s 233us/sample - loss: 1.4488 - accuracy: 0.3556\n",
      "Epoch 31/200\n",
      "90/90 [==============================] - 0s 170us/sample - loss: 1.3794 - accuracy: 0.3556\n",
      "Epoch 32/200\n",
      "90/90 [==============================] - 0s 180us/sample - loss: 1.3184 - accuracy: 0.3556\n",
      "Epoch 33/200\n",
      "90/90 [==============================] - 0s 177us/sample - loss: 1.2615 - accuracy: 0.3556\n",
      "Epoch 34/200\n",
      "90/90 [==============================] - 0s 203us/sample - loss: 1.2126 - accuracy: 0.3556\n",
      "Epoch 35/200\n",
      "90/90 [==============================] - 0s 188us/sample - loss: 1.1694 - accuracy: 0.3556\n",
      "Epoch 36/200\n",
      "90/90 [==============================] - 0s 255us/sample - loss: 1.1272 - accuracy: 0.3556\n",
      "Epoch 37/200\n",
      "90/90 [==============================] - 0s 248us/sample - loss: 1.0943 - accuracy: 0.3556\n",
      "Epoch 38/200\n",
      "90/90 [==============================] - 0s 211us/sample - loss: 1.0630 - accuracy: 0.3556\n",
      "Epoch 39/200\n",
      "90/90 [==============================] - 0s 183us/sample - loss: 1.0400 - accuracy: 0.3556\n",
      "Epoch 40/200\n",
      "90/90 [==============================] - 0s 201us/sample - loss: 1.0184 - accuracy: 0.3556\n",
      "Epoch 41/200\n",
      "90/90 [==============================] - 0s 192us/sample - loss: 1.0046 - accuracy: 0.3556\n",
      "Epoch 42/200\n",
      "90/90 [==============================] - 0s 173us/sample - loss: 0.9907 - accuracy: 0.3556\n",
      "Epoch 43/200\n",
      "90/90 [==============================] - 0s 180us/sample - loss: 0.9804 - accuracy: 0.3556\n",
      "Epoch 44/200\n",
      "90/90 [==============================] - 0s 199us/sample - loss: 0.9685 - accuracy: 0.3667\n",
      "Epoch 45/200\n",
      "90/90 [==============================] - 0s 176us/sample - loss: 0.9612 - accuracy: 0.3667\n",
      "Epoch 46/200\n",
      "90/90 [==============================] - 0s 179us/sample - loss: 0.9547 - accuracy: 0.3778\n",
      "Epoch 47/200\n",
      "90/90 [==============================] - 0s 202us/sample - loss: 0.9489 - accuracy: 0.3889\n",
      "Epoch 48/200\n",
      "90/90 [==============================] - 0s 198us/sample - loss: 0.9436 - accuracy: 0.3889\n",
      "Epoch 49/200\n",
      "90/90 [==============================] - 0s 194us/sample - loss: 0.9392 - accuracy: 0.4333\n",
      "Epoch 50/200\n",
      "90/90 [==============================] - 0s 173us/sample - loss: 0.9342 - accuracy: 0.4667\n",
      "Epoch 51/200\n",
      "90/90 [==============================] - 0s 173us/sample - loss: 0.9298 - accuracy: 0.5111\n",
      "Epoch 52/200\n",
      "90/90 [==============================] - 0s 186us/sample - loss: 0.9256 - accuracy: 0.5333\n",
      "Epoch 53/200\n",
      "90/90 [==============================] - 0s 178us/sample - loss: 0.9218 - accuracy: 0.5333\n",
      "Epoch 54/200\n",
      "90/90 [==============================] - 0s 183us/sample - loss: 0.9181 - accuracy: 0.5333\n",
      "Epoch 55/200\n",
      "90/90 [==============================] - 0s 188us/sample - loss: 0.9141 - accuracy: 0.5333\n",
      "Epoch 56/200\n",
      "90/90 [==============================] - 0s 206us/sample - loss: 0.9105 - accuracy: 0.5444\n",
      "Epoch 57/200\n",
      "90/90 [==============================] - 0s 159us/sample - loss: 0.9070 - accuracy: 0.5444\n",
      "Epoch 58/200\n",
      "90/90 [==============================] - 0s 211us/sample - loss: 0.9033 - accuracy: 0.5444\n",
      "Epoch 59/200\n",
      "90/90 [==============================] - 0s 165us/sample - loss: 0.8996 - accuracy: 0.5444\n",
      "Epoch 60/200\n",
      "90/90 [==============================] - 0s 173us/sample - loss: 0.8961 - accuracy: 0.5444\n",
      "Epoch 61/200\n",
      "90/90 [==============================] - 0s 141us/sample - loss: 0.8931 - accuracy: 0.5556\n",
      "Epoch 62/200\n",
      "90/90 [==============================] - 0s 177us/sample - loss: 0.8893 - accuracy: 0.5667\n",
      "Epoch 63/200\n",
      "90/90 [==============================] - 0s 176us/sample - loss: 0.8860 - accuracy: 0.5667\n",
      "Epoch 64/200\n",
      "90/90 [==============================] - 0s 159us/sample - loss: 0.8828 - accuracy: 0.5444\n",
      "Epoch 65/200\n",
      "90/90 [==============================] - 0s 163us/sample - loss: 0.8794 - accuracy: 0.5444\n",
      "Epoch 66/200\n",
      "90/90 [==============================] - 0s 189us/sample - loss: 0.8764 - accuracy: 0.5444\n",
      "Epoch 67/200\n",
      "90/90 [==============================] - 0s 228us/sample - loss: 0.8728 - accuracy: 0.5556\n",
      "Epoch 68/200\n",
      "90/90 [==============================] - 0s 189us/sample - loss: 0.8696 - accuracy: 0.5667\n",
      "Epoch 69/200\n",
      "90/90 [==============================] - 0s 228us/sample - loss: 0.8662 - accuracy: 0.5667\n",
      "Epoch 70/200\n",
      "90/90 [==============================] - 0s 159us/sample - loss: 0.8633 - accuracy: 0.5667\n",
      "Epoch 71/200\n",
      "90/90 [==============================] - 0s 158us/sample - loss: 0.8601 - accuracy: 0.5667\n",
      "Epoch 72/200\n",
      "90/90 [==============================] - 0s 168us/sample - loss: 0.8568 - accuracy: 0.5667\n",
      "Epoch 73/200\n",
      "90/90 [==============================] - 0s 169us/sample - loss: 0.8536 - accuracy: 0.5667\n",
      "Epoch 74/200\n",
      "90/90 [==============================] - 0s 241us/sample - loss: 0.8505 - accuracy: 0.5667\n",
      "Epoch 75/200\n",
      "90/90 [==============================] - 0s 192us/sample - loss: 0.8473 - accuracy: 0.5667\n",
      "Epoch 76/200\n",
      "90/90 [==============================] - 0s 277us/sample - loss: 0.8443 - accuracy: 0.5667\n",
      "Epoch 77/200\n",
      "90/90 [==============================] - 0s 182us/sample - loss: 0.8414 - accuracy: 0.5667\n",
      "Epoch 78/200\n",
      "90/90 [==============================] - 0s 196us/sample - loss: 0.8381 - accuracy: 0.5667\n",
      "Epoch 79/200\n",
      "90/90 [==============================] - 0s 298us/sample - loss: 0.8351 - accuracy: 0.5667\n",
      "Epoch 80/200\n",
      "90/90 [==============================] - 0s 250us/sample - loss: 0.8321 - accuracy: 0.5667\n",
      "Epoch 81/200\n",
      "90/90 [==============================] - 0s 212us/sample - loss: 0.8291 - accuracy: 0.5667\n",
      "Epoch 82/200\n",
      "90/90 [==============================] - 0s 196us/sample - loss: 0.8263 - accuracy: 0.5667\n",
      "Epoch 83/200\n",
      "90/90 [==============================] - 0s 230us/sample - loss: 0.8229 - accuracy: 0.5667\n",
      "Epoch 84/200\n",
      "90/90 [==============================] - 0s 234us/sample - loss: 0.8201 - accuracy: 0.5667\n",
      "Epoch 85/200\n",
      "90/90 [==============================] - 0s 201us/sample - loss: 0.8170 - accuracy: 0.5667\n",
      "Epoch 86/200\n",
      "90/90 [==============================] - 0s 240us/sample - loss: 0.8143 - accuracy: 0.5667\n",
      "Epoch 87/200\n",
      "90/90 [==============================] - 0s 202us/sample - loss: 0.8114 - accuracy: 0.5667\n",
      "Epoch 88/200\n",
      "90/90 [==============================] - 0s 168us/sample - loss: 0.8082 - accuracy: 0.5667\n",
      "Epoch 89/200\n",
      "90/90 [==============================] - 0s 160us/sample - loss: 0.8052 - accuracy: 0.5667\n",
      "Epoch 90/200\n",
      "90/90 [==============================] - 0s 187us/sample - loss: 0.8024 - accuracy: 0.5667\n",
      "Epoch 91/200\n",
      "90/90 [==============================] - 0s 193us/sample - loss: 0.7993 - accuracy: 0.5667\n",
      "Epoch 92/200\n",
      "90/90 [==============================] - 0s 241us/sample - loss: 0.7966 - accuracy: 0.5667\n",
      "Epoch 93/200\n",
      "90/90 [==============================] - 0s 217us/sample - loss: 0.7940 - accuracy: 0.5778\n",
      "Epoch 94/200\n",
      "90/90 [==============================] - 0s 169us/sample - loss: 0.7906 - accuracy: 0.5778\n",
      "Epoch 95/200\n",
      "90/90 [==============================] - 0s 193us/sample - loss: 0.7876 - accuracy: 0.5778\n",
      "Epoch 96/200\n",
      "90/90 [==============================] - 0s 197us/sample - loss: 0.7849 - accuracy: 0.5778\n",
      "Epoch 97/200\n",
      "90/90 [==============================] - 0s 178us/sample - loss: 0.7819 - accuracy: 0.5778\n",
      "Epoch 98/200\n",
      "90/90 [==============================] - 0s 194us/sample - loss: 0.7789 - accuracy: 0.5778\n",
      "Epoch 99/200\n",
      "90/90 [==============================] - 0s 184us/sample - loss: 0.7761 - accuracy: 0.5778\n",
      "Epoch 100/200\n",
      "90/90 [==============================] - 0s 206us/sample - loss: 0.7733 - accuracy: 0.5778\n",
      "Epoch 101/200\n",
      "90/90 [==============================] - 0s 202us/sample - loss: 0.7705 - accuracy: 0.6000\n",
      "Epoch 102/200\n",
      "90/90 [==============================] - 0s 195us/sample - loss: 0.7674 - accuracy: 0.5778\n",
      "Epoch 103/200\n",
      "90/90 [==============================] - 0s 177us/sample - loss: 0.7646 - accuracy: 0.5778\n",
      "Epoch 104/200\n",
      "90/90 [==============================] - 0s 187us/sample - loss: 0.7619 - accuracy: 0.5778\n",
      "Epoch 105/200\n",
      "90/90 [==============================] - 0s 159us/sample - loss: 0.7591 - accuracy: 0.5778\n",
      "Epoch 106/200\n",
      "90/90 [==============================] - 0s 174us/sample - loss: 0.7570 - accuracy: 0.5889\n",
      "Epoch 107/200\n",
      "90/90 [==============================] - 0s 178us/sample - loss: 0.7533 - accuracy: 0.6111\n",
      "Epoch 108/200\n",
      "90/90 [==============================] - 0s 161us/sample - loss: 0.7505 - accuracy: 0.6111\n",
      "Epoch 109/200\n",
      "90/90 [==============================] - 0s 215us/sample - loss: 0.7477 - accuracy: 0.6000\n",
      "Epoch 110/200\n",
      "90/90 [==============================] - 0s 175us/sample - loss: 0.7448 - accuracy: 0.6000\n",
      "Epoch 111/200\n",
      "90/90 [==============================] - 0s 170us/sample - loss: 0.7420 - accuracy: 0.6111\n",
      "Epoch 112/200\n",
      "90/90 [==============================] - 0s 203us/sample - loss: 0.7389 - accuracy: 0.6111\n",
      "Epoch 113/200\n",
      "90/90 [==============================] - 0s 179us/sample - loss: 0.7363 - accuracy: 0.6111\n",
      "Epoch 114/200\n",
      "90/90 [==============================] - 0s 164us/sample - loss: 0.7333 - accuracy: 0.6111\n",
      "Epoch 115/200\n",
      "90/90 [==============================] - 0s 159us/sample - loss: 0.7306 - accuracy: 0.6111\n",
      "Epoch 116/200\n",
      "90/90 [==============================] - 0s 183us/sample - loss: 0.7278 - accuracy: 0.6222\n",
      "Epoch 117/200\n",
      "90/90 [==============================] - 0s 185us/sample - loss: 0.7250 - accuracy: 0.6222\n",
      "Epoch 118/200\n",
      "90/90 [==============================] - 0s 194us/sample - loss: 0.7223 - accuracy: 0.6222\n",
      "Epoch 119/200\n",
      "90/90 [==============================] - 0s 152us/sample - loss: 0.7194 - accuracy: 0.6222\n",
      "Epoch 120/200\n",
      "90/90 [==============================] - 0s 179us/sample - loss: 0.7164 - accuracy: 0.6222\n",
      "Epoch 121/200\n",
      "90/90 [==============================] - 0s 214us/sample - loss: 0.7136 - accuracy: 0.6222\n",
      "Epoch 122/200\n",
      "90/90 [==============================] - 0s 194us/sample - loss: 0.7108 - accuracy: 0.6222\n",
      "Epoch 123/200\n",
      "90/90 [==============================] - 0s 211us/sample - loss: 0.7084 - accuracy: 0.6222\n",
      "Epoch 124/200\n",
      "90/90 [==============================] - 0s 202us/sample - loss: 0.7051 - accuracy: 0.6222\n",
      "Epoch 125/200\n",
      "90/90 [==============================] - 0s 164us/sample - loss: 0.7024 - accuracy: 0.6222\n",
      "Epoch 126/200\n",
      "90/90 [==============================] - 0s 171us/sample - loss: 0.6995 - accuracy: 0.6222\n",
      "Epoch 127/200\n",
      "90/90 [==============================] - 0s 183us/sample - loss: 0.6968 - accuracy: 0.6222\n",
      "Epoch 128/200\n",
      "90/90 [==============================] - 0s 171us/sample - loss: 0.6940 - accuracy: 0.6222\n",
      "Epoch 129/200\n",
      "90/90 [==============================] - 0s 166us/sample - loss: 0.6914 - accuracy: 0.6222\n",
      "Epoch 130/200\n",
      "90/90 [==============================] - 0s 168us/sample - loss: 0.6887 - accuracy: 0.6222\n",
      "Epoch 131/200\n",
      "90/90 [==============================] - 0s 169us/sample - loss: 0.6855 - accuracy: 0.6222\n",
      "Epoch 132/200\n",
      "90/90 [==============================] - 0s 180us/sample - loss: 0.6827 - accuracy: 0.6222\n",
      "Epoch 133/200\n",
      "90/90 [==============================] - 0s 231us/sample - loss: 0.6800 - accuracy: 0.6222\n",
      "Epoch 134/200\n",
      "90/90 [==============================] - 0s 203us/sample - loss: 0.6776 - accuracy: 0.6333\n",
      "Epoch 135/200\n",
      "90/90 [==============================] - 0s 180us/sample - loss: 0.6744 - accuracy: 0.6444\n",
      "Epoch 136/200\n",
      "90/90 [==============================] - 0s 173us/sample - loss: 0.6721 - accuracy: 0.6667\n",
      "Epoch 137/200\n",
      "90/90 [==============================] - 0s 185us/sample - loss: 0.6692 - accuracy: 0.6667\n",
      "Epoch 138/200\n",
      "90/90 [==============================] - 0s 194us/sample - loss: 0.6662 - accuracy: 0.6667\n",
      "Epoch 139/200\n",
      "90/90 [==============================] - 0s 174us/sample - loss: 0.6633 - accuracy: 0.6667\n",
      "Epoch 140/200\n",
      "90/90 [==============================] - 0s 162us/sample - loss: 0.6604 - accuracy: 0.6667\n",
      "Epoch 141/200\n",
      "90/90 [==============================] - 0s 151us/sample - loss: 0.6578 - accuracy: 0.6889\n",
      "Epoch 142/200\n",
      "90/90 [==============================] - 0s 162us/sample - loss: 0.6561 - accuracy: 0.7000\n",
      "Epoch 143/200\n",
      "90/90 [==============================] - 0s 178us/sample - loss: 0.6524 - accuracy: 0.7222\n",
      "Epoch 144/200\n",
      "90/90 [==============================] - 0s 178us/sample - loss: 0.6499 - accuracy: 0.7444\n",
      "Epoch 145/200\n",
      "90/90 [==============================] - 0s 196us/sample - loss: 0.6471 - accuracy: 0.7889\n",
      "Epoch 146/200\n",
      "90/90 [==============================] - 0s 198us/sample - loss: 0.6439 - accuracy: 0.7889\n",
      "Epoch 147/200\n",
      "90/90 [==============================] - 0s 190us/sample - loss: 0.6411 - accuracy: 0.8000\n",
      "Epoch 148/200\n",
      "90/90 [==============================] - 0s 233us/sample - loss: 0.6385 - accuracy: 0.8333\n",
      "Epoch 149/200\n",
      "90/90 [==============================] - 0s 209us/sample - loss: 0.6357 - accuracy: 0.8556\n",
      "Epoch 150/200\n",
      "90/90 [==============================] - 0s 224us/sample - loss: 0.6331 - accuracy: 0.8667\n",
      "Epoch 151/200\n",
      "90/90 [==============================] - 0s 180us/sample - loss: 0.6303 - accuracy: 0.8667\n",
      "Epoch 152/200\n",
      "90/90 [==============================] - 0s 215us/sample - loss: 0.6276 - accuracy: 0.8889\n",
      "Epoch 153/200\n",
      "90/90 [==============================] - 0s 189us/sample - loss: 0.6247 - accuracy: 0.9000\n",
      "Epoch 154/200\n",
      "90/90 [==============================] - 0s 191us/sample - loss: 0.6220 - accuracy: 0.9000\n",
      "Epoch 155/200\n",
      "90/90 [==============================] - 0s 198us/sample - loss: 0.6194 - accuracy: 0.9000\n",
      "Epoch 156/200\n",
      "90/90 [==============================] - 0s 244us/sample - loss: 0.6166 - accuracy: 0.9222\n",
      "Epoch 157/200\n",
      "90/90 [==============================] - 0s 203us/sample - loss: 0.6140 - accuracy: 0.9333\n",
      "Epoch 158/200\n",
      "90/90 [==============================] - 0s 192us/sample - loss: 0.6112 - accuracy: 0.9444\n",
      "Epoch 159/200\n",
      "90/90 [==============================] - 0s 221us/sample - loss: 0.6084 - accuracy: 0.9444\n",
      "Epoch 160/200\n",
      "90/90 [==============================] - 0s 200us/sample - loss: 0.6056 - accuracy: 0.9444\n",
      "Epoch 161/200\n",
      "90/90 [==============================] - 0s 166us/sample - loss: 0.6030 - accuracy: 0.9444\n",
      "Epoch 162/200\n",
      "90/90 [==============================] - 0s 172us/sample - loss: 0.6004 - accuracy: 0.9444\n",
      "Epoch 163/200\n",
      "90/90 [==============================] - 0s 191us/sample - loss: 0.5978 - accuracy: 0.9444\n",
      "Epoch 164/200\n",
      "90/90 [==============================] - 0s 194us/sample - loss: 0.5949 - accuracy: 0.9444\n",
      "Epoch 165/200\n",
      "90/90 [==============================] - 0s 215us/sample - loss: 0.5925 - accuracy: 0.9444\n",
      "Epoch 166/200\n",
      "90/90 [==============================] - 0s 201us/sample - loss: 0.5895 - accuracy: 0.9444\n",
      "Epoch 167/200\n",
      "90/90 [==============================] - 0s 234us/sample - loss: 0.5868 - accuracy: 0.9444\n",
      "Epoch 168/200\n",
      "90/90 [==============================] - 0s 207us/sample - loss: 0.5844 - accuracy: 0.9444\n",
      "Epoch 169/200\n",
      "90/90 [==============================] - 0s 195us/sample - loss: 0.5813 - accuracy: 0.9556\n",
      "Epoch 170/200\n",
      "90/90 [==============================] - 0s 241us/sample - loss: 0.5793 - accuracy: 0.9556\n",
      "Epoch 171/200\n",
      "90/90 [==============================] - 0s 171us/sample - loss: 0.5763 - accuracy: 0.9556\n",
      "Epoch 172/200\n",
      "90/90 [==============================] - 0s 240us/sample - loss: 0.5733 - accuracy: 0.9556\n",
      "Epoch 173/200\n",
      "90/90 [==============================] - 0s 183us/sample - loss: 0.5710 - accuracy: 0.9444\n",
      "Epoch 174/200\n",
      "90/90 [==============================] - 0s 212us/sample - loss: 0.5680 - accuracy: 0.9444\n",
      "Epoch 175/200\n",
      "90/90 [==============================] - 0s 193us/sample - loss: 0.5656 - accuracy: 0.9444\n",
      "Epoch 176/200\n",
      "90/90 [==============================] - 0s 163us/sample - loss: 0.5628 - accuracy: 0.9556\n",
      "Epoch 177/200\n",
      "90/90 [==============================] - 0s 231us/sample - loss: 0.5603 - accuracy: 0.9556\n",
      "Epoch 178/200\n",
      "90/90 [==============================] - 0s 206us/sample - loss: 0.5575 - accuracy: 0.9556\n",
      "Epoch 179/200\n",
      "90/90 [==============================] - 0s 187us/sample - loss: 0.5548 - accuracy: 0.9556\n",
      "Epoch 180/200\n",
      "90/90 [==============================] - 0s 173us/sample - loss: 0.5522 - accuracy: 0.9556\n",
      "Epoch 181/200\n",
      "90/90 [==============================] - 0s 191us/sample - loss: 0.5495 - accuracy: 0.9667\n",
      "Epoch 182/200\n",
      "90/90 [==============================] - 0s 193us/sample - loss: 0.5471 - accuracy: 0.9667\n",
      "Epoch 183/200\n",
      "90/90 [==============================] - 0s 160us/sample - loss: 0.5444 - accuracy: 0.9667\n",
      "Epoch 184/200\n",
      "90/90 [==============================] - 0s 188us/sample - loss: 0.5417 - accuracy: 0.9667\n",
      "Epoch 185/200\n",
      "90/90 [==============================] - 0s 243us/sample - loss: 0.5392 - accuracy: 0.9667\n",
      "Epoch 186/200\n",
      "90/90 [==============================] - 0s 221us/sample - loss: 0.5364 - accuracy: 0.9667\n",
      "Epoch 187/200\n",
      "90/90 [==============================] - 0s 186us/sample - loss: 0.5337 - accuracy: 0.9667\n",
      "Epoch 188/200\n",
      "90/90 [==============================] - 0s 192us/sample - loss: 0.5316 - accuracy: 0.9667\n",
      "Epoch 189/200\n",
      "90/90 [==============================] - 0s 200us/sample - loss: 0.5287 - accuracy: 0.9667\n",
      "Epoch 190/200\n",
      "90/90 [==============================] - 0s 186us/sample - loss: 0.5262 - accuracy: 0.9556\n",
      "Epoch 191/200\n",
      "90/90 [==============================] - 0s 179us/sample - loss: 0.5238 - accuracy: 0.9556\n",
      "Epoch 192/200\n",
      "90/90 [==============================] - 0s 221us/sample - loss: 0.5210 - accuracy: 0.9667\n",
      "Epoch 193/200\n",
      "90/90 [==============================] - 0s 159us/sample - loss: 0.5184 - accuracy: 0.9667\n",
      "Epoch 194/200\n",
      "90/90 [==============================] - 0s 176us/sample - loss: 0.5159 - accuracy: 0.9667\n",
      "Epoch 195/200\n",
      "90/90 [==============================] - 0s 216us/sample - loss: 0.5135 - accuracy: 0.9667\n",
      "Epoch 196/200\n",
      "90/90 [==============================] - 0s 196us/sample - loss: 0.5108 - accuracy: 0.9667\n",
      "Epoch 197/200\n",
      "90/90 [==============================] - 0s 193us/sample - loss: 0.5083 - accuracy: 0.9667\n",
      "Epoch 198/200\n",
      "90/90 [==============================] - 0s 253us/sample - loss: 0.5060 - accuracy: 0.9667\n",
      "Epoch 199/200\n",
      "90/90 [==============================] - 0s 205us/sample - loss: 0.5034 - accuracy: 0.9667\n",
      "Epoch 200/200\n",
      "90/90 [==============================] - 0s 207us/sample - loss: 0.5007 - accuracy: 0.9667\n"
     ]
    },
    {
     "data": {
      "text/plain": [
       "<tensorflow.python.keras.callbacks.History at 0x7f5c0cff4240>"
      ]
     },
     "execution_count": 28,
     "metadata": {
      "tags": []
     },
     "output_type": "execute_result"
    }
   ],
   "source": [
    "model.fit(x_train , encoded_y_train , epochs=200)"
   ]
  },
  {
   "cell_type": "code",
   "execution_count": 75,
   "metadata": {
    "colab": {
     "base_uri": "https://localhost:8080/",
     "height": 50
    },
    "colab_type": "code",
    "id": "oItfIc_YFlXM",
    "outputId": "6a69f86f-7446-433a-cf3f-29d11092d526"
   },
   "outputs": [
    {
     "name": "stdout",
     "output_type": "stream",
     "text": [
      "60/1 - 0s - loss: 0.5410 - accuracy: 0.9500\n"
     ]
    },
    {
     "data": {
      "text/plain": [
       "[0.5317880551020304, 0.95]"
      ]
     },
     "execution_count": 75,
     "metadata": {
      "tags": []
     },
     "output_type": "execute_result"
    }
   ],
   "source": [
    "results = model.evaluate(x_test, encoded_y_test,verbose=2)\n",
    "results"
   ]
  },
  {
   "cell_type": "code",
   "execution_count": 0,
   "metadata": {
    "colab": {},
    "colab_type": "code",
    "id": "ie7WK7ROHcF8"
   },
   "outputs": [],
   "source": [
    "i = 40\n",
    "prediction =  model.predict_classes(x_test[i].reshape(1,4))"
   ]
  },
  {
   "cell_type": "code",
   "execution_count": 87,
   "metadata": {
    "colab": {
     "base_uri": "https://localhost:8080/",
     "height": 50
    },
    "colab_type": "code",
    "id": "RD_oeKj1IVAI",
    "outputId": "4493f938-cd43-43da-df82-8a16160de582"
   },
   "outputs": [
    {
     "name": "stdout",
     "output_type": "stream",
     "text": [
      "The data is : [6.1 2.9 4.7 1.4] and I have predicted that it's a [1] i.e Iris-versicolor\n",
      "Actual data : [6.1 2.9 4.7 1.4] actual label : Iris-versicolor\n"
     ]
    }
   ],
   "source": [
    "if prediction == 0:\n",
    "  print(\"The data is :\",x_test[i],\"and I have predicted that it's a\",prediction,\"i.e Iris-setosa\")\n",
    "  print(\"Actual data :\",x_test[i] , \"actual label :\",y_test[i])\n",
    "\n",
    "elif prediction == 1:\n",
    "  print(\"The data is :\",x_test[i],\"and I have predicted that it's a\",prediction,\"i.e Iris-versicolor\")\n",
    "  print(\"Actual data :\",x_test[i] , \"actual label :\",y_test[i])\n",
    "\n",
    "else:\n",
    "  print(\"The data is :\",x_test[i],\"and I have predicted that it's a\",prediction,\"i.e Iris-virginica\")\n",
    "  print(\"Actual data :\",x_test[i] , \"actual label :\",y_test[i])\n"
   ]
  }
 ],
 "metadata": {
  "accelerator": "GPU",
  "colab": {
   "name": "Flower_prediction.ipynb",
   "provenance": []
  },
  "kernelspec": {
   "display_name": "Python 3",
   "language": "python",
   "name": "python3"
  },
  "language_info": {
   "codemirror_mode": {
    "name": "ipython",
    "version": 3
   },
   "file_extension": ".py",
   "mimetype": "text/x-python",
   "name": "python",
   "nbconvert_exporter": "python",
   "pygments_lexer": "ipython3",
   "version": "3.7.5"
  }
 },
 "nbformat": 4,
 "nbformat_minor": 1
}
