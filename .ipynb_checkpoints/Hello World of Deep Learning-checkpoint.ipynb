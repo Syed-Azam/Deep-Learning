{
 "cells": [
  {
   "cell_type": "markdown",
   "metadata": {},
   "source": [
    "# Hello World Of Deep Learning"
   ]
  },
  {
   "cell_type": "markdown",
   "metadata": {},
   "source": [
    "Like every first app you should start with something super simple that shows the overall scaffolding for how your code works.\n",
    "\n",
    "In the case of creating neural networks, the sample I like to use is one where it learns the relationship between two numbers. So, for example, if you were writing code for a function like this, you already know the 'rules' —\n",
    "\n",
    "float hw_function(float x){\n",
    "\n",
    "\n",
    "\n",
    "\n",
    "\n",
    "\n",
    "    float y = (2 * x) - 1;\n",
    "    return y;\n",
    "}\n",
    "\n",
    "\n",
    "\n",
    "\n",
    "So how would you train a neural network to do the equivalent task? Using data! By feeding it with a set of Xs, and a set of Ys, it should be able to figure out the relationship between them.\n",
    "\n",
    "This is obviously a very different paradigm than what you might be used to, so let's step through it piece by piece."
   ]
  },
  {
   "cell_type": "markdown",
   "metadata": {},
   "source": [
    "# Imports\n",
    "Let's start with our imports. Here we are importing TensorFlow and calling it tf for ease of use.\n",
    "\n",
    "We then import a library called numpy, which helps us to represent our data as lists easily and quickly.\n",
    "\n",
    "The framework for defining a neural network as a set of Sequential layers is called keras, so we import that too."
   ]
  },
  {
   "cell_type": "code",
   "execution_count": 1,
   "metadata": {},
   "outputs": [],
   "source": [
    "import tensorflow as tf"
   ]
  },
  {
   "cell_type": "code",
   "execution_count": 2,
   "metadata": {},
   "outputs": [],
   "source": [
    "import numpy as np"
   ]
  },
  {
   "cell_type": "code",
   "execution_count": 3,
   "metadata": {},
   "outputs": [],
   "source": [
    "import tensorflow.keras"
   ]
  },
  {
   "cell_type": "code",
   "execution_count": 4,
   "metadata": {},
   "outputs": [],
   "source": [
    "from tensorflow.keras import models\n",
    "from tensorflow.keras import layers"
   ]
  },
  {
   "cell_type": "markdown",
   "metadata": {},
   "source": [
    "# Providing the Data\n",
    "Next up we'll feed in some data. In this case we are taking 6 xs and 6ys. You can see that the relationship between these is that y=2x-1, so where x = -1, y=-3 etc. etc.\n",
    "\n",
    "A python library called 'Numpy' provides lots of array type data structures that are a defacto standard way of doing it. We declare that we want to use these by specifying the values as an np.array[]"
   ]
  },
  {
   "cell_type": "code",
   "execution_count": 5,
   "metadata": {},
   "outputs": [],
   "source": [
    "x = np.array([-1,0,1,2,3,4])\n",
    "y = np.array([-3,-1,1,3,5,7])"
   ]
  },
  {
   "cell_type": "markdown",
   "metadata": {},
   "source": [
    "# Define and Compile the Neural Network\n",
    "Next we will create the simplest possible neural network. It has 1 layer, and that layer has 1 neuron, and the input shape to it is just 1 value."
   ]
  },
  {
   "cell_type": "code",
   "execution_count": 6,
   "metadata": {},
   "outputs": [],
   "source": [
    "model = tensorflow.keras.Sequential([tensorflow.keras.layers.Dense(units = 1, input_shape=[1])])"
   ]
  },
  {
   "cell_type": "markdown",
   "metadata": {},
   "source": [
    "Now we compile our Neural Network. When we do so, we have to specify 2 functions, a loss and an optimizer.\n",
    "\n",
    "If you've seen lots of math for machine learning, here's where it's usually used, but in this case it's nicely encapsulated in functions for you. But what happens here — let's explain...\n",
    "\n",
    "We know that in our function, the relationship between the numbers is y=2x-1.\n",
    "\n",
    "When the computer is trying to 'learn' that, it makes a guess...maybe y=10x+10. The LOSS function measures the guessed answers against the known correct answers and measures how well or how badly it did.\n",
    "\n",
    "It then uses the OPTIMIZER function to make another guess. Based on how the loss function went, it will try to minimize the loss. At that point maybe it will come up with somehting like y=5x+5, which, while still pretty bad, is closer to the correct result (i.e. the loss is lower)\n",
    "\n",
    "It will repeat this for the number of EPOCHS which you will see shortly. But first, here's how we tell it to use 'MEAN SQUARED ERROR' for the loss and 'STOCHASTIC GRADIENT DESCENT' for the optimizer. You don't need to understand the math for these yet, but you can see that they work! :)\n",
    "\n",
    "Over time you will learn the different and appropriate loss and optimizer functions for different scenarios."
   ]
  },
  {
   "cell_type": "code",
   "execution_count": 7,
   "metadata": {},
   "outputs": [],
   "source": [
    "model.compile(optimizer = \"sgd\",loss = \"mean_squared_error\")"
   ]
  },
  {
   "cell_type": "markdown",
   "metadata": {},
   "source": [
    "# Training the Neural Network\n",
    "The process of training the neural network, where it 'learns' the relationship between the Xs and Ys is in the model.fit call. This is where it will go through the loop we spoke about above, making a guess, measuring how good or bad it is (aka the loss), using the opimizer to make another guess etc. It will do it for the number of epochs you specify. When you run this code, you'll see the loss on the right hand side."
   ]
  },
  {
   "cell_type": "code",
   "execution_count": 8,
   "metadata": {},
   "outputs": [
    {
     "name": "stdout",
     "output_type": "stream",
     "text": [
      "Train on 6 samples\n",
      "Epoch 1/100\n",
      "6/6 [==============================] - 1s 188ms/sample - loss: 6.2966\n",
      "Epoch 2/100\n",
      "6/6 [==============================] - 0s 833us/sample - loss: 5.1390\n",
      "Epoch 3/100\n",
      "6/6 [==============================] - 0s 1ms/sample - loss: 4.2244\n",
      "Epoch 4/100\n",
      "6/6 [==============================] - 0s 1ms/sample - loss: 3.5012\n",
      "Epoch 5/100\n",
      "6/6 [==============================] - 0s 993us/sample - loss: 2.9285\n",
      "Epoch 6/100\n",
      "6/6 [==============================] - 0s 1ms/sample - loss: 2.4744\n",
      "Epoch 7/100\n",
      "6/6 [==============================] - 0s 833us/sample - loss: 2.1136\n",
      "Epoch 8/100\n",
      "6/6 [==============================] - 0s 1ms/sample - loss: 1.8263\n",
      "Epoch 9/100\n",
      "6/6 [==============================] - 0s 1ms/sample - loss: 1.5969\n",
      "Epoch 10/100\n",
      "6/6 [==============================] - 0s 1ms/sample - loss: 1.4132\n",
      "Epoch 11/100\n",
      "6/6 [==============================] - 0s 1ms/sample - loss: 1.2654\n",
      "Epoch 12/100\n",
      "6/6 [==============================] - 0s 1000us/sample - loss: 1.1460\n",
      "Epoch 13/100\n",
      "6/6 [==============================] - 0s 833us/sample - loss: 1.0489\n",
      "Epoch 14/100\n",
      "6/6 [==============================] - 0s 2ms/sample - loss: 0.9695\n",
      "Epoch 15/100\n",
      "6/6 [==============================] - 0s 2ms/sample - loss: 0.9041\n",
      "Epoch 16/100\n",
      "6/6 [==============================] - 0s 666us/sample - loss: 0.8498\n",
      "Epoch 17/100\n",
      "6/6 [==============================] - 0s 1ms/sample - loss: 0.8041\n",
      "Epoch 18/100\n",
      "6/6 [==============================] - 0s 999us/sample - loss: 0.7655\n",
      "Epoch 19/100\n",
      "6/6 [==============================] - 0s 1ms/sample - loss: 0.7323\n",
      "Epoch 20/100\n",
      "6/6 [==============================] - 0s 1ms/sample - loss: 0.7036\n",
      "Epoch 21/100\n",
      "6/6 [==============================] - 0s 1ms/sample - loss: 0.6783\n",
      "Epoch 22/100\n",
      "6/6 [==============================] - 0s 999us/sample - loss: 0.6559\n",
      "Epoch 23/100\n",
      "6/6 [==============================] - 0s 832us/sample - loss: 0.6357\n",
      "Epoch 24/100\n",
      "6/6 [==============================] - 0s 2ms/sample - loss: 0.6174\n",
      "Epoch 25/100\n",
      "6/6 [==============================] - 0s 833us/sample - loss: 0.6006\n",
      "Epoch 26/100\n",
      "6/6 [==============================] - 0s 666us/sample - loss: 0.5850\n",
      "Epoch 27/100\n",
      "6/6 [==============================] - 0s 833us/sample - loss: 0.5704\n",
      "Epoch 28/100\n",
      "6/6 [==============================] - 0s 1ms/sample - loss: 0.5567\n",
      "Epoch 29/100\n",
      "6/6 [==============================] - 0s 2ms/sample - loss: 0.5437\n",
      "Epoch 30/100\n",
      "6/6 [==============================] - 0s 1ms/sample - loss: 0.5313\n",
      "Epoch 31/100\n",
      "6/6 [==============================] - 0s 833us/sample - loss: 0.5194\n",
      "Epoch 32/100\n",
      "6/6 [==============================] - 0s 1ms/sample - loss: 0.5080\n",
      "Epoch 33/100\n",
      "6/6 [==============================] - 0s 1ms/sample - loss: 0.4969\n",
      "Epoch 34/100\n",
      "6/6 [==============================] - 0s 666us/sample - loss: 0.4862\n",
      "Epoch 35/100\n",
      "6/6 [==============================] - 0s 1ms/sample - loss: 0.4759\n",
      "Epoch 36/100\n",
      "6/6 [==============================] - 0s 2ms/sample - loss: 0.4658\n",
      "Epoch 37/100\n",
      "6/6 [==============================] - 0s 2ms/sample - loss: 0.4560\n",
      "Epoch 38/100\n",
      "6/6 [==============================] - 0s 833us/sample - loss: 0.4464\n",
      "Epoch 39/100\n",
      "6/6 [==============================] - 0s 2ms/sample - loss: 0.4371\n",
      "Epoch 40/100\n",
      "6/6 [==============================] - 0s 1ms/sample - loss: 0.4280\n",
      "Epoch 41/100\n",
      "6/6 [==============================] - 0s 666us/sample - loss: 0.4192\n",
      "Epoch 42/100\n",
      "6/6 [==============================] - 0s 1ms/sample - loss: 0.4105\n",
      "Epoch 43/100\n",
      "6/6 [==============================] - 0s 833us/sample - loss: 0.4020\n",
      "Epoch 44/100\n",
      "6/6 [==============================] - 0s 2ms/sample - loss: 0.3937\n",
      "Epoch 45/100\n",
      "6/6 [==============================] - 0s 2ms/sample - loss: 0.3856\n",
      "Epoch 46/100\n",
      "6/6 [==============================] - 0s 1ms/sample - loss: 0.3776\n",
      "Epoch 47/100\n",
      "6/6 [==============================] - 0s 1ms/sample - loss: 0.3698\n",
      "Epoch 48/100\n",
      "6/6 [==============================] - 0s 1ms/sample - loss: 0.3622\n",
      "Epoch 49/100\n",
      "6/6 [==============================] - 0s 1ms/sample - loss: 0.3548\n",
      "Epoch 50/100\n",
      "6/6 [==============================] - 0s 999us/sample - loss: 0.3475\n",
      "Epoch 51/100\n",
      "6/6 [==============================] - 0s 1ms/sample - loss: 0.3403\n",
      "Epoch 52/100\n",
      "6/6 [==============================] - 0s 2ms/sample - loss: 0.3333\n",
      "Epoch 53/100\n",
      "6/6 [==============================] - 0s 999us/sample - loss: 0.3265\n",
      "Epoch 54/100\n",
      "6/6 [==============================] - 0s 833us/sample - loss: 0.3198\n",
      "Epoch 55/100\n",
      "6/6 [==============================] - 0s 2ms/sample - loss: 0.3132\n",
      "Epoch 56/100\n",
      "6/6 [==============================] - 0s 2ms/sample - loss: 0.3068\n",
      "Epoch 57/100\n",
      "6/6 [==============================] - 0s 666us/sample - loss: 0.3005\n",
      "Epoch 58/100\n",
      "6/6 [==============================] - 0s 2ms/sample - loss: 0.2943\n",
      "Epoch 59/100\n",
      "6/6 [==============================] - 0s 1ms/sample - loss: 0.2882\n",
      "Epoch 60/100\n",
      "6/6 [==============================] - 0s 833us/sample - loss: 0.2823\n",
      "Epoch 61/100\n",
      "6/6 [==============================] - 0s 3ms/sample - loss: 0.2765\n",
      "Epoch 62/100\n",
      "6/6 [==============================] - 0s 833us/sample - loss: 0.2708\n",
      "Epoch 63/100\n",
      "6/6 [==============================] - 0s 2ms/sample - loss: 0.2653\n",
      "Epoch 64/100\n",
      "6/6 [==============================] - 0s 666us/sample - loss: 0.2598\n",
      "Epoch 65/100\n",
      "6/6 [==============================] - 0s 999us/sample - loss: 0.2545\n",
      "Epoch 66/100\n",
      "6/6 [==============================] - 0s 1ms/sample - loss: 0.2493\n",
      "Epoch 67/100\n",
      "6/6 [==============================] - 0s 2ms/sample - loss: 0.2441\n",
      "Epoch 68/100\n",
      "6/6 [==============================] - 0s 832us/sample - loss: 0.2391\n",
      "Epoch 69/100\n",
      "6/6 [==============================] - 0s 2ms/sample - loss: 0.2342\n",
      "Epoch 70/100\n",
      "6/6 [==============================] - 0s 833us/sample - loss: 0.2294\n",
      "Epoch 71/100\n",
      "6/6 [==============================] - 0s 665us/sample - loss: 0.2247\n",
      "Epoch 72/100\n",
      "6/6 [==============================] - 0s 666us/sample - loss: 0.2201\n",
      "Epoch 73/100\n",
      "6/6 [==============================] - 0s 2ms/sample - loss: 0.2156\n",
      "Epoch 74/100\n",
      "6/6 [==============================] - 0s 1ms/sample - loss: 0.2111\n",
      "Epoch 75/100\n",
      "6/6 [==============================] - 0s 1ms/sample - loss: 0.2068\n",
      "Epoch 76/100\n",
      "6/6 [==============================] - 0s 1ms/sample - loss: 0.2025\n",
      "Epoch 77/100\n",
      "6/6 [==============================] - 0s 999us/sample - loss: 0.1984\n",
      "Epoch 78/100\n",
      "6/6 [==============================] - 0s 999us/sample - loss: 0.1943\n",
      "Epoch 79/100\n",
      "6/6 [==============================] - 0s 999us/sample - loss: 0.1903\n",
      "Epoch 80/100\n",
      "6/6 [==============================] - 0s 1ms/sample - loss: 0.1864\n",
      "Epoch 81/100\n",
      "6/6 [==============================] - 0s 1000us/sample - loss: 0.1826\n",
      "Epoch 82/100\n",
      "6/6 [==============================] - 0s 1ms/sample - loss: 0.1788\n",
      "Epoch 83/100\n",
      "6/6 [==============================] - 0s 1ms/sample - loss: 0.1752\n",
      "Epoch 84/100\n",
      "6/6 [==============================] - 0s 1ms/sample - loss: 0.1716\n",
      "Epoch 85/100\n",
      "6/6 [==============================] - 0s 833us/sample - loss: 0.1680\n",
      "Epoch 86/100\n",
      "6/6 [==============================] - 0s 1ms/sample - loss: 0.1646\n",
      "Epoch 87/100\n",
      "6/6 [==============================] - 0s 1000us/sample - loss: 0.1612\n",
      "Epoch 88/100\n",
      "6/6 [==============================] - 0s 666us/sample - loss: 0.1579\n",
      "Epoch 89/100\n",
      "6/6 [==============================] - 0s 1000us/sample - loss: 0.1546\n",
      "Epoch 90/100\n",
      "6/6 [==============================] - 0s 1ms/sample - loss: 0.1515\n",
      "Epoch 91/100\n",
      "6/6 [==============================] - 0s 666us/sample - loss: 0.1484\n",
      "Epoch 92/100\n",
      "6/6 [==============================] - 0s 1ms/sample - loss: 0.1453\n",
      "Epoch 93/100\n",
      "6/6 [==============================] - 0s 3ms/sample - loss: 0.1423\n",
      "Epoch 94/100\n",
      "6/6 [==============================] - 0s 2ms/sample - loss: 0.1394\n",
      "Epoch 95/100\n",
      "6/6 [==============================] - 0s 1ms/sample - loss: 0.1365\n",
      "Epoch 96/100\n",
      "6/6 [==============================] - 0s 2ms/sample - loss: 0.1337\n",
      "Epoch 97/100\n",
      "6/6 [==============================] - 0s 666us/sample - loss: 0.1310\n",
      "Epoch 98/100\n",
      "6/6 [==============================] - 0s 1ms/sample - loss: 0.1283\n",
      "Epoch 99/100\n",
      "6/6 [==============================] - 0s 1ms/sample - loss: 0.1257\n",
      "Epoch 100/100\n",
      "6/6 [==============================] - 0s 1ms/sample - loss: 0.1231\n"
     ]
    },
    {
     "data": {
      "text/plain": [
       "<tensorflow.python.keras.callbacks.History at 0x1f50417df08>"
      ]
     },
     "execution_count": 8,
     "metadata": {},
     "output_type": "execute_result"
    }
   ],
   "source": [
    "model.fit(x,y,epochs=100)"
   ]
  },
  {
   "cell_type": "markdown",
   "metadata": {},
   "source": [
    "Ok, now you have a model that has been trained to learn the relationshop between X and Y. You can use the model.predict method to have it figure out the Y for a previously unknown X. So, for example, if X = 10, what do you think Y will be? Take a guess before you run this code:"
   ]
  },
  {
   "cell_type": "code",
   "execution_count": 9,
   "metadata": {},
   "outputs": [
    {
     "name": "stdout",
     "output_type": "stream",
     "text": [
      "[[17.97636]]\n"
     ]
    }
   ],
   "source": [
    "print(model.predict([10]))"
   ]
  },
  {
   "cell_type": "markdown",
   "metadata": {},
   "source": [
    "You might have thought 19, right? But it ended up being a little under. Why do you think that is?\n",
    "\n",
    "Remember that neural networks deal with probabilities, so given the data that we fed the NN with, it calculated that there is a very high probability that the relationship between X and Y is Y=2X-1, but with only 6 data points we can't know for sure. As a result, the result for 10 is very close to 19, but not necessarily 19.\n",
    "\n",
    "As you work with neural networks, you'll see this pattern recurring. You will almost always deal with probabilities, not certainties, and will do a little bit of coding to figure out what the result is based on the probabilities, particularly when it comes to classification."
   ]
  }
 ],
 "metadata": {
  "kernelspec": {
   "display_name": "Python 3",
   "language": "python",
   "name": "python3"
  },
  "language_info": {
   "codemirror_mode": {
    "name": "ipython",
    "version": 3
   },
   "file_extension": ".py",
   "mimetype": "text/x-python",
   "name": "python",
   "nbconvert_exporter": "python",
   "pygments_lexer": "ipython3",
   "version": "3.7.5"
  }
 },
 "nbformat": 4,
 "nbformat_minor": 2
}
