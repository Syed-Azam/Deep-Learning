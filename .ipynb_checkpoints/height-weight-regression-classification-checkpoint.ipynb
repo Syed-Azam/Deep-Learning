{
 "cells": [
  {
   "cell_type": "code",
   "execution_count": 1,
   "metadata": {
    "_cell_guid": "b1076dfc-b9ad-4769-8c92-a6c4dae69d19",
    "_uuid": "8f2839f25d086af736a60e9eeb907d3b93b6e0e5"
   },
   "outputs": [],
   "source": [
    "# UPVOTE IF YOU LIKE THE TUTORIAL\n",
    "\n",
    "# This Python 3 environment comes with many helpful analytics libraries installed\n",
    "# It is defined by the kaggle/python docker image: https://github.com/kaggle/docker-python\n",
    "# For example, here's several helpful packages to load in \n",
    "# By the end of this, you will be able to draw basic histograms, KDE and scatter plot and will get to knwo what is univariate and bivariate distributions.\n",
    "# like us on fb: https://www.facebook.com/codemakerz\n",
    "\n",
    "import numpy as np # linear algebra\n",
    "import pandas as pd # data processing, CSV file I/O (e.g. pd.read_csv)\n",
    "import matplotlib.pyplot as plt\n",
    "import os\n",
    "import seaborn as sns\n",
    "# Input data files are available in the \"../input/\" directory.\n",
    "# For example, running this (by clicking run or pressing Shift+Enter) will list the files in the input directory"
   ]
  },
  {
   "cell_type": "code",
   "execution_count": 2,
   "metadata": {},
   "outputs": [
    {
     "name": "stdout",
     "output_type": "stream",
     "text": [
      "['weight-height.csv']\n"
     ]
    }
   ],
   "source": [
    "print(os.listdir(\"../input\"))\n",
    "df= pd.read_csv('../input/weight-height.csv')"
   ]
  },
  {
   "cell_type": "markdown",
   "metadata": {},
   "source": [
    "# Load Data"
   ]
  },
  {
   "cell_type": "code",
   "execution_count": 3,
   "metadata": {},
   "outputs": [
    {
     "data": {
      "text/html": [
       "<div>\n",
       "<style scoped>\n",
       "    .dataframe tbody tr th:only-of-type {\n",
       "        vertical-align: middle;\n",
       "    }\n",
       "\n",
       "    .dataframe tbody tr th {\n",
       "        vertical-align: top;\n",
       "    }\n",
       "\n",
       "    .dataframe thead th {\n",
       "        text-align: right;\n",
       "    }\n",
       "</style>\n",
       "<table border=\"1\" class=\"dataframe\">\n",
       "  <thead>\n",
       "    <tr style=\"text-align: right;\">\n",
       "      <th></th>\n",
       "      <th>Gender</th>\n",
       "      <th>Height</th>\n",
       "      <th>Weight</th>\n",
       "    </tr>\n",
       "  </thead>\n",
       "  <tbody>\n",
       "    <tr>\n",
       "      <th>0</th>\n",
       "      <td>Male</td>\n",
       "      <td>73.847017</td>\n",
       "      <td>241.893563</td>\n",
       "    </tr>\n",
       "    <tr>\n",
       "      <th>1</th>\n",
       "      <td>Male</td>\n",
       "      <td>68.781904</td>\n",
       "      <td>162.310473</td>\n",
       "    </tr>\n",
       "    <tr>\n",
       "      <th>2</th>\n",
       "      <td>Male</td>\n",
       "      <td>74.110105</td>\n",
       "      <td>212.740856</td>\n",
       "    </tr>\n",
       "    <tr>\n",
       "      <th>3</th>\n",
       "      <td>Male</td>\n",
       "      <td>71.730978</td>\n",
       "      <td>220.042470</td>\n",
       "    </tr>\n",
       "    <tr>\n",
       "      <th>4</th>\n",
       "      <td>Male</td>\n",
       "      <td>69.881796</td>\n",
       "      <td>206.349801</td>\n",
       "    </tr>\n",
       "  </tbody>\n",
       "</table>\n",
       "</div>"
      ],
      "text/plain": [
       "  Gender     Height      Weight\n",
       "0   Male  73.847017  241.893563\n",
       "1   Male  68.781904  162.310473\n",
       "2   Male  74.110105  212.740856\n",
       "3   Male  71.730978  220.042470\n",
       "4   Male  69.881796  206.349801"
      ]
     },
     "execution_count": 3,
     "metadata": {},
     "output_type": "execute_result"
    }
   ],
   "source": [
    "# Lets see what we got in df. head prints by default 5 rows.\n",
    "df.head()\n"
   ]
  },
  {
   "cell_type": "markdown",
   "metadata": {},
   "source": [
    "###### So finally we have our data in our hand. Now lets do some visualization to understand it even more finely. As we know there are only two columns in our dataset so we will se historgram & kde plot(univariate distribution) and scatter plot(bivariate distribution), What is univariate & bivariate distribution? As name suggest univariate in plotting only a single feature e.g. histogram and kde plot (kernel distribution estimation). Bivariate means plotting 2 two variables e.g. scatter plot"
   ]
  },
  {
   "cell_type": "code",
   "execution_count": 4,
   "metadata": {
    "_cell_guid": "79c7e3d0-c299-4dcb-8224-4455121ee9b0",
    "_uuid": "d629ff2d2480ee46fbb7e2d37f6b5fab8052498a"
   },
   "outputs": [
    {
     "data": {
      "text/plain": [
       "Gender    0\n",
       "Height    0\n",
       "Weight    0\n",
       "dtype: int64"
      ]
     },
     "execution_count": 4,
     "metadata": {},
     "output_type": "execute_result"
    }
   ],
   "source": [
    "df.isnull().sum() # As we can see, there is no null values so we dont have to take care of missing values, which is abig relief."
   ]
  },
  {
   "cell_type": "markdown",
   "metadata": {},
   "source": [
    "##### lets start few visualisation.\n",
    "##### We are plotting histogram for height. We can see there are few params. Lets understand them.\n",
    "<ul>\n",
    "    <li>\n",
    "kind: this mean what kind of plot you want e,g, hist, box and other kind. So in our case its hist for histogram. </li>\n",
    "<li>title: The title of the plot. You can consider it as a name for your plot \\n</li>\n",
    "<li>color: you can choose any color. In my case 'c' stands for cyan</li>\n",
    "    </ul>"
   ]
  },
  {
   "cell_type": "markdown",
   "metadata": {},
   "source": [
    "# Visualization"
   ]
  },
  {
   "cell_type": "code",
   "execution_count": 5,
   "metadata": {},
   "outputs": [
    {
     "data": {
      "image/png": "[encoded data removed]",
      "text/plain": [
       "<Figure size 432x288 with 1 Axes>"
      ]
     },
     "metadata": {
      "needs_background": "light"
     },
     "output_type": "display_data"
    }
   ],
   "source": [
    "# Lets draw a basic histogram. \n",
    "df.Height.plot(kind=\"hist\", title='Univariate: Height Histogram', color='c');"
   ]
  },
  {
   "cell_type": "code",
   "execution_count": 6,
   "metadata": {},
   "outputs": [
    {
     "data": {
      "image/png": "[encoded data removed]",
      "text/plain": [
       "<Figure size 432x288 with 1 Axes>"
      ]
     },
     "metadata": {
      "needs_background": "light"
     },
     "output_type": "display_data"
    }
   ],
   "source": [
    "# univariate distribution\n",
    "#Above histogram same we can do with matplotlib also. Matplotlib allows you to write more flexible code\n",
    "# title again means you plot name.\n",
    "# xlabel means label on x-axis and ylabel for y-axis\n",
    "# bins will be explained in the next plot\n",
    "plt.hist(x=df.Height, color='c')\n",
    "plt.title(\"Univariate: Height Histogram\")\n",
    "plt.xlabel(\"Height\")\n",
    "plt.ylabel(\"Total Counts\")\n",
    "plt.plot();"
   ]
  },
  {
   "cell_type": "code",
   "execution_count": 7,
   "metadata": {},
   "outputs": [
    {
     "data": {
      "image/png": "[encoded data removed]",
      "text/plain": [
       "<Figure size 432x288 with 1 Axes>"
      ]
     },
     "metadata": {
      "needs_background": "light"
     },
     "output_type": "display_data"
    }
   ],
   "source": [
    "# Lets draw a basic histogram. \n",
    "df.Weight.plot(kind=\"hist\", title='Univariate: Weight Histogram', color='c');"
   ]
  },
  {
   "cell_type": "code",
   "execution_count": 8,
   "metadata": {},
   "outputs": [
    {
     "data": {
      "image/png": "[encoded data removed]",
      "text/plain": [
       "<Figure size 432x288 with 1 Axes>"
      ]
     },
     "metadata": {
      "needs_background": "light"
     },
     "output_type": "display_data"
    }
   ],
   "source": [
    "# Weight histogram using matplotlib \n",
    "plt.hist(x=df.Weight, color='c')\n",
    "plt.title(\"Univariate: Weight Histogram\")\n",
    "plt.xlabel(\"Weight\")\n",
    "plt.ylabel(\"Total Counts\")\n",
    "plt.plot();"
   ]
  },
  {
   "cell_type": "code",
   "execution_count": 9,
   "metadata": {},
   "outputs": [],
   "source": [
    "# So with the above histograms you can estimate the number of people having a particular value of height and weight.\n",
    "# e.g. number of people having height of 100 cms is around 250.\n",
    "# Lets say you want increas the bars(thos cyan colored bars). We can increase them by using bins property.\n"
   ]
  },
  {
   "cell_type": "code",
   "execution_count": 10,
   "metadata": {},
   "outputs": [
    {
     "data": {
      "image/png": "[encoded data removed]",
      "text/plain": [
       "<Figure size 432x288 with 1 Axes>"
      ]
     },
     "metadata": {
      "needs_background": "light"
     },
     "output_type": "display_data"
    }
   ],
   "source": [
    "plt.hist(x=df.Weight, color='c', bins=20)\n",
    "plt.title(\"Univariate: Weight Histogram\")\n",
    "plt.xlabel(\"Height\")\n",
    "plt.ylabel(\"Total Counts\")\n",
    "plt.plot();"
   ]
  },
  {
   "cell_type": "code",
   "execution_count": 11,
   "metadata": {},
   "outputs": [],
   "source": [
    "# So we are done with the histogram try to find out more about histogram.\n",
    "#lets plot a kde. KDE is more like smoother curve. It is very simple just change the kind to kde"
   ]
  },
  {
   "cell_type": "code",
   "execution_count": 12,
   "metadata": {},
   "outputs": [
    {
     "data": {
      "image/png": "[encoded data removed]",
      "text/plain": [
       "<Figure size 432x288 with 1 Axes>"
      ]
     },
     "metadata": {
      "needs_background": "light"
     },
     "output_type": "display_data"
    }
   ],
   "source": [
    "# KDE distribution for Height\n",
    "df.Height.plot(kind=\"kde\", title='Univariate: Height KDE', color='c');"
   ]
  },
  {
   "cell_type": "code",
   "execution_count": 13,
   "metadata": {},
   "outputs": [
    {
     "data": {
      "image/png": "[encoded data removed]",
      "text/plain": [
       "<Figure size 432x288 with 1 Axes>"
      ]
     },
     "metadata": {
      "needs_background": "light"
     },
     "output_type": "display_data"
    }
   ],
   "source": [
    "# KDE distribution for Weight\n",
    "df.Weight.plot(kind=\"kde\", title='Univariate: Weight KDE', color='c');"
   ]
  },
  {
   "cell_type": "code",
   "execution_count": 14,
   "metadata": {},
   "outputs": [],
   "source": [
    "# So you can imagine KDE as the outline of histogram.\n",
    "# KDE is more smoother and it gives you a bell shape curve."
   ]
  },
  {
   "cell_type": "code",
   "execution_count": 15,
   "metadata": {},
   "outputs": [],
   "source": [
    "# Bivariate: Lets plot bivariate using scatter plot\n"
   ]
  },
  {
   "cell_type": "code",
   "execution_count": 16,
   "metadata": {},
   "outputs": [
    {
     "data": {
      "image/png": "[encoded data removed]",
      "text/plain": [
       "<Figure size 432x288 with 1 Axes>"
      ]
     },
     "metadata": {
      "needs_background": "light"
     },
     "output_type": "display_data"
    }
   ],
   "source": [
    "# So here we are plotting a  bivariate plot type called scatter plot between height and weight.\n",
    "# x = data to show in x-axis(numeric)\n",
    "# y = data to show in y-axis(numeric)\n",
    "# color: color of the dots\n",
    "# title: name for your plot\n",
    "df.plot.scatter(x=\"Height\", y=\"Weight\", color='c', title='Height Vs Weight');"
   ]
  },
  {
   "cell_type": "code",
   "execution_count": 17,
   "metadata": {},
   "outputs": [
    {
     "data": {
      "image/png": "[encoded data removed]",
      "text/plain": [
       "<Figure size 432x288 with 1 Axes>"
      ]
     },
     "metadata": {
      "needs_background": "light"
     },
     "output_type": "display_data"
    }
   ],
   "source": [
    "# lets do same with matplotlib\n",
    "plt.scatter(x=df[\"Height\"], y=df[\"Weight\"], color='c')\n",
    "plt.title(\"Bivariate: Height Vs Weight Using Matplotplib\")\n",
    "plt.xlabel(\"Height\")\n",
    "plt.ylabel(\"Weight\")\n",
    "plt.plot(); # this means now plot the visualisation with all the settings."
   ]
  },
  {
   "cell_type": "code",
   "execution_count": 18,
   "metadata": {},
   "outputs": [],
   "source": [
    "# So I think it would be helpfull for you. If you like it, please follow us on facebook: https://www.facebook.com/codemakerz"
   ]
  },
  {
   "cell_type": "markdown",
   "metadata": {},
   "source": [
    "# Regression - Predict Weight Using Height"
   ]
  },
  {
   "cell_type": "markdown",
   "metadata": {},
   "source": [
    "## Split Train, Test Data"
   ]
  },
  {
   "cell_type": "code",
   "execution_count": 19,
   "metadata": {},
   "outputs": [
    {
     "data": {
      "text/html": [
       "<div>\n",
       "<style scoped>\n",
       "    .dataframe tbody tr th:only-of-type {\n",
       "        vertical-align: middle;\n",
       "    }\n",
       "\n",
       "    .dataframe tbody tr th {\n",
       "        vertical-align: top;\n",
       "    }\n",
       "\n",
       "    .dataframe thead th {\n",
       "        text-align: right;\n",
       "    }\n",
       "</style>\n",
       "<table border=\"1\" class=\"dataframe\">\n",
       "  <thead>\n",
       "    <tr style=\"text-align: right;\">\n",
       "      <th></th>\n",
       "      <th>Gender</th>\n",
       "      <th>Height</th>\n",
       "      <th>Weight</th>\n",
       "    </tr>\n",
       "  </thead>\n",
       "  <tbody>\n",
       "    <tr>\n",
       "      <th>0</th>\n",
       "      <td>Male</td>\n",
       "      <td>73.847017</td>\n",
       "      <td>241.893563</td>\n",
       "    </tr>\n",
       "    <tr>\n",
       "      <th>1</th>\n",
       "      <td>Male</td>\n",
       "      <td>68.781904</td>\n",
       "      <td>162.310473</td>\n",
       "    </tr>\n",
       "    <tr>\n",
       "      <th>2</th>\n",
       "      <td>Male</td>\n",
       "      <td>74.110105</td>\n",
       "      <td>212.740856</td>\n",
       "    </tr>\n",
       "    <tr>\n",
       "      <th>3</th>\n",
       "      <td>Male</td>\n",
       "      <td>71.730978</td>\n",
       "      <td>220.042470</td>\n",
       "    </tr>\n",
       "    <tr>\n",
       "      <th>4</th>\n",
       "      <td>Male</td>\n",
       "      <td>69.881796</td>\n",
       "      <td>206.349801</td>\n",
       "    </tr>\n",
       "  </tbody>\n",
       "</table>\n",
       "</div>"
      ],
      "text/plain": [
       "  Gender     Height      Weight\n",
       "0   Male  73.847017  241.893563\n",
       "1   Male  68.781904  162.310473\n",
       "2   Male  74.110105  212.740856\n",
       "3   Male  71.730978  220.042470\n",
       "4   Male  69.881796  206.349801"
      ]
     },
     "execution_count": 19,
     "metadata": {},
     "output_type": "execute_result"
    }
   ],
   "source": [
    "df.head()"
   ]
  },
  {
   "cell_type": "code",
   "execution_count": 20,
   "metadata": {},
   "outputs": [],
   "source": [
    "X = df.iloc[:, 1:2].values\n",
    "y = df.iloc[:, 2:3].values"
   ]
  },
  {
   "cell_type": "code",
   "execution_count": 21,
   "metadata": {},
   "outputs": [],
   "source": [
    "# First lets split our data\n",
    "from sklearn.model_selection import train_test_split"
   ]
  },
  {
   "cell_type": "code",
   "execution_count": 22,
   "metadata": {},
   "outputs": [],
   "source": [
    "X_train, X_test, y_train, y_test = train_test_split(X, y, test_size=0.3, random_state=31)"
   ]
  },
  {
   "cell_type": "code",
   "execution_count": 23,
   "metadata": {},
   "outputs": [],
   "source": [
    "# Lets create a k-fold structure to train our model in better way."
   ]
  },
  {
   "cell_type": "markdown",
   "metadata": {},
   "source": [
    "## Linear Regressor Model"
   ]
  },
  {
   "cell_type": "code",
   "execution_count": 24,
   "metadata": {},
   "outputs": [],
   "source": [
    "from sklearn.linear_model import LinearRegression"
   ]
  },
  {
   "cell_type": "code",
   "execution_count": 25,
   "metadata": {},
   "outputs": [],
   "source": [
    "regressor = LinearRegression()"
   ]
  },
  {
   "cell_type": "code",
   "execution_count": 26,
   "metadata": {},
   "outputs": [],
   "source": [
    "model_fit = regressor.fit(X_train, y_train)"
   ]
  },
  {
   "cell_type": "code",
   "execution_count": 27,
   "metadata": {},
   "outputs": [],
   "source": [
    "y_predict = regressor.predict(X_test)"
   ]
  },
  {
   "cell_type": "code",
   "execution_count": 28,
   "metadata": {},
   "outputs": [
    {
     "data": {
      "text/plain": [
       "array([[163.3254169 ],\n",
       "       [172.4561169 ],\n",
       "       [141.93545547],\n",
       "       ...,\n",
       "       [183.17868191],\n",
       "       [151.35818679],\n",
       "       [140.9103195 ]])"
      ]
     },
     "execution_count": 28,
     "metadata": {},
     "output_type": "execute_result"
    }
   ],
   "source": [
    "y_predict"
   ]
  },
  {
   "cell_type": "code",
   "execution_count": 29,
   "metadata": {},
   "outputs": [
    {
     "data": {
      "image/png": "[encoded data removed]",
      "text/plain": [
       "<Figure size 432x288 with 1 Axes>"
      ]
     },
     "metadata": {
      "needs_background": "light"
     },
     "output_type": "display_data"
    }
   ],
   "source": [
    "plt.scatter(X_test, y_test)\n",
    "plt.plot( X_train, regressor.predict(X_train), color='r')\n",
    "plt.xlabel(\"Height\")\n",
    "plt.ylabel(\"Weight\")\n",
    "plt.title(\"Heigth Vs Weight Prediction\")\n",
    "plt.show()"
   ]
  },
  {
   "cell_type": "code",
   "execution_count": 30,
   "metadata": {},
   "outputs": [],
   "source": [
    "# So you can see our regression line is finely fitting our data points.\n",
    "# blue points are actual values & points on red line are predicted values."
   ]
  },
  {
   "cell_type": "markdown",
   "metadata": {},
   "source": [
    "# Accuracy"
   ]
  },
  {
   "cell_type": "code",
   "execution_count": 31,
   "metadata": {},
   "outputs": [],
   "source": [
    "# To find accuracy of model we have many metries like \n",
    "# R-square, mean-squared-error(MSE), root-mean-squared-error(RMSE)"
   ]
  },
  {
   "cell_type": "code",
   "execution_count": 32,
   "metadata": {},
   "outputs": [],
   "source": [
    "from sklearn.metrics import r2_score"
   ]
  },
  {
   "cell_type": "code",
   "execution_count": 33,
   "metadata": {},
   "outputs": [
    {
     "name": "stdout",
     "output_type": "stream",
     "text": [
      "Model Accuracy is: 0.8518184505555159\n"
     ]
    }
   ],
   "source": [
    "print(f\"Model Accuracy is: {regressor.score(X_test, y_test)}\")"
   ]
  },
  {
   "cell_type": "code",
   "execution_count": 34,
   "metadata": {},
   "outputs": [],
   "source": [
    "# Cool we got an accuracy of 85%, which is not bad."
   ]
  },
  {
   "cell_type": "code",
   "execution_count": 35,
   "metadata": {},
   "outputs": [
    {
     "data": {
      "text/plain": [
       "0.8518184505555159"
      ]
     },
     "execution_count": 35,
     "metadata": {},
     "output_type": "execute_result"
    }
   ],
   "source": [
    "r2_score(y_test, y_predict)"
   ]
  },
  {
   "cell_type": "code",
   "execution_count": 36,
   "metadata": {},
   "outputs": [],
   "source": [
    "# R-squared Close to 1 is good."
   ]
  },
  {
   "cell_type": "code",
   "execution_count": 37,
   "metadata": {},
   "outputs": [],
   "source": [
    "# SO finally you just created your simple linear regression model."
   ]
  },
  {
   "cell_type": "markdown",
   "metadata": {},
   "source": [
    "# Classification - Predict Gender By Height & Weight"
   ]
  },
  {
   "cell_type": "code",
   "execution_count": 38,
   "metadata": {},
   "outputs": [],
   "source": [
    "# Previously we saw how to predict Weigth by Height, which is simple because:\n",
    "# 1. Both were numeric values\n",
    "# 2. There was only one independent variable or feature(Height).\n",
    "# 3. Previously we were finding continues value like Weight but now we are finding discrete values like Male or Female. So\n",
    "# here we will use classification.\n",
    "# Now we wil talk about KNN classification. Here we will use two features(Heigth & Weigth) to predict Gender.\n"
   ]
  },
  {
   "cell_type": "markdown",
   "metadata": {},
   "source": [
    "> IT IS A MAJORITY WIN CLASSIFIER.\n",
    "\n",
    "> KNN classification is very simple. It will plot your data point on the graph and select the n number of neighbors(which u define) and related you datapoint to majority.\n"
   ]
  },
  {
   "cell_type": "code",
   "execution_count": 39,
   "metadata": {},
   "outputs": [],
   "source": [
    "# Lets Split data"
   ]
  },
  {
   "cell_type": "code",
   "execution_count": 40,
   "metadata": {},
   "outputs": [
    {
     "data": {
      "text/html": [
       "<div>\n",
       "<style scoped>\n",
       "    .dataframe tbody tr th:only-of-type {\n",
       "        vertical-align: middle;\n",
       "    }\n",
       "\n",
       "    .dataframe tbody tr th {\n",
       "        vertical-align: top;\n",
       "    }\n",
       "\n",
       "    .dataframe thead th {\n",
       "        text-align: right;\n",
       "    }\n",
       "</style>\n",
       "<table border=\"1\" class=\"dataframe\">\n",
       "  <thead>\n",
       "    <tr style=\"text-align: right;\">\n",
       "      <th></th>\n",
       "      <th>Gender</th>\n",
       "      <th>Height</th>\n",
       "      <th>Weight</th>\n",
       "    </tr>\n",
       "  </thead>\n",
       "  <tbody>\n",
       "    <tr>\n",
       "      <th>0</th>\n",
       "      <td>Male</td>\n",
       "      <td>73.847017</td>\n",
       "      <td>241.893563</td>\n",
       "    </tr>\n",
       "    <tr>\n",
       "      <th>1</th>\n",
       "      <td>Male</td>\n",
       "      <td>68.781904</td>\n",
       "      <td>162.310473</td>\n",
       "    </tr>\n",
       "    <tr>\n",
       "      <th>2</th>\n",
       "      <td>Male</td>\n",
       "      <td>74.110105</td>\n",
       "      <td>212.740856</td>\n",
       "    </tr>\n",
       "    <tr>\n",
       "      <th>3</th>\n",
       "      <td>Male</td>\n",
       "      <td>71.730978</td>\n",
       "      <td>220.042470</td>\n",
       "    </tr>\n",
       "    <tr>\n",
       "      <th>4</th>\n",
       "      <td>Male</td>\n",
       "      <td>69.881796</td>\n",
       "      <td>206.349801</td>\n",
       "    </tr>\n",
       "  </tbody>\n",
       "</table>\n",
       "</div>"
      ],
      "text/plain": [
       "  Gender     Height      Weight\n",
       "0   Male  73.847017  241.893563\n",
       "1   Male  68.781904  162.310473\n",
       "2   Male  74.110105  212.740856\n",
       "3   Male  71.730978  220.042470\n",
       "4   Male  69.881796  206.349801"
      ]
     },
     "execution_count": 40,
     "metadata": {},
     "output_type": "execute_result"
    }
   ],
   "source": [
    "df.head()"
   ]
  },
  {
   "cell_type": "code",
   "execution_count": 41,
   "metadata": {},
   "outputs": [],
   "source": [
    "X_ml = df.iloc[:, 1:3].values\n",
    "y_ml = df.iloc[:, 0:1].values"
   ]
  },
  {
   "cell_type": "code",
   "execution_count": 42,
   "metadata": {},
   "outputs": [
    {
     "data": {
      "text/plain": [
       "(10000, 2)"
      ]
     },
     "execution_count": 42,
     "metadata": {},
     "output_type": "execute_result"
    }
   ],
   "source": [
    "X_ml.shape"
   ]
  },
  {
   "cell_type": "code",
   "execution_count": 43,
   "metadata": {},
   "outputs": [],
   "source": [
    "# Can you see any problem here? We can see our target variable is in string form, ML model only understands numeric values.\n",
    "# To make our model work, we need to encode it to numeric values. We will use LabelEncoder class for it."
   ]
  },
  {
   "cell_type": "code",
   "execution_count": 44,
   "metadata": {},
   "outputs": [],
   "source": [
    "from sklearn.preprocessing import LabelEncoder"
   ]
  },
  {
   "cell_type": "code",
   "execution_count": 45,
   "metadata": {},
   "outputs": [],
   "source": [
    "encoder = LabelEncoder()"
   ]
  },
  {
   "cell_type": "code",
   "execution_count": 46,
   "metadata": {},
   "outputs": [
    {
     "name": "stderr",
     "output_type": "stream",
     "text": [
      "/opt/conda/lib/python3.6/site-packages/sklearn/preprocessing/label.py:235: DataConversionWarning: A column-vector y was passed when a 1d array was expected. Please change the shape of y to (n_samples, ), for example using ravel().\n",
      "  y = column_or_1d(y, warn=True)\n"
     ]
    }
   ],
   "source": [
    "y_ml = encoder.fit_transform(y_ml)"
   ]
  },
  {
   "cell_type": "code",
   "execution_count": 47,
   "metadata": {},
   "outputs": [
    {
     "data": {
      "text/plain": [
       "array([1, 1, 1, ..., 0, 0, 0])"
      ]
     },
     "execution_count": 47,
     "metadata": {},
     "output_type": "execute_result"
    }
   ],
   "source": [
    "y_ml # so we can see now our string values are encoded. Male as 1 & Female as 0"
   ]
  },
  {
   "cell_type": "code",
   "execution_count": 48,
   "metadata": {},
   "outputs": [
    {
     "data": {
      "text/plain": [
       "(10000,)"
      ]
     },
     "execution_count": 48,
     "metadata": {},
     "output_type": "execute_result"
    }
   ],
   "source": [
    "y_ml.shape"
   ]
  },
  {
   "cell_type": "code",
   "execution_count": 49,
   "metadata": {},
   "outputs": [],
   "source": [
    "# So now we can perform KNN classification. Before that we need to split train test set."
   ]
  },
  {
   "cell_type": "code",
   "execution_count": 50,
   "metadata": {},
   "outputs": [],
   "source": [
    "X_train_ml, X_test_ml, y_train_ml, y_test_ml = train_test_split(X_ml, y_ml, test_size=0.3, random_state=31)"
   ]
  },
  {
   "cell_type": "code",
   "execution_count": 51,
   "metadata": {},
   "outputs": [],
   "source": [
    "from sklearn.neighbors import KNeighborsClassifier\n",
    "knn = KNeighborsClassifier(n_neighbors=3) #n_neighbors is the number of neighbours"
   ]
  },
  {
   "cell_type": "code",
   "execution_count": 52,
   "metadata": {},
   "outputs": [
    {
     "data": {
      "text/plain": [
       "KNeighborsClassifier(algorithm='auto', leaf_size=30, metric='minkowski',\n",
       "                     metric_params=None, n_jobs=None, n_neighbors=3, p=2,\n",
       "                     weights='uniform')"
      ]
     },
     "execution_count": 52,
     "metadata": {},
     "output_type": "execute_result"
    }
   ],
   "source": [
    "knn.fit(X_train_ml, y_train_ml)"
   ]
  },
  {
   "cell_type": "code",
   "execution_count": 53,
   "metadata": {},
   "outputs": [],
   "source": [
    "y_predict_ml = knn.predict(X_test_ml)"
   ]
  },
  {
   "cell_type": "code",
   "execution_count": 54,
   "metadata": {},
   "outputs": [
    {
     "data": {
      "text/plain": [
       "array([0, 1, 0, ..., 1, 0, 0])"
      ]
     },
     "execution_count": 54,
     "metadata": {},
     "output_type": "execute_result"
    }
   ],
   "source": [
    "y_predict_ml # So you can see now our model is classifying the gender"
   ]
  },
  {
   "cell_type": "code",
   "execution_count": 55,
   "metadata": {},
   "outputs": [],
   "source": [
    "# Lets plot confusion matrix"
   ]
  },
  {
   "cell_type": "code",
   "execution_count": 56,
   "metadata": {},
   "outputs": [],
   "source": [
    "from sklearn.metrics import confusion_matrix"
   ]
  },
  {
   "cell_type": "code",
   "execution_count": 57,
   "metadata": {},
   "outputs": [
    {
     "data": {
      "text/plain": [
       "array([[1315,  157],\n",
       "       [ 138, 1390]])"
      ]
     },
     "execution_count": 57,
     "metadata": {},
     "output_type": "execute_result"
    }
   ],
   "source": [
    "confusion_matrix(y_test_ml, y_predict_ml)"
   ]
  },
  {
   "cell_type": "code",
   "execution_count": 58,
   "metadata": {},
   "outputs": [],
   "source": [
    "# So our confusion matrix shows we predicted 1315+1390=2705 values correct and 138+157=295 incorrect. Not bad but can we do it better?"
   ]
  },
  {
   "cell_type": "code",
   "execution_count": 59,
   "metadata": {},
   "outputs": [],
   "source": [
    "# Lets change the n_neighbors values in KNN classifier and see"
   ]
  },
  {
   "cell_type": "code",
   "execution_count": 60,
   "metadata": {},
   "outputs": [
    {
     "data": {
      "text/plain": [
       "array([[1330,  142],\n",
       "       [ 135, 1393]])"
      ]
     },
     "execution_count": 60,
     "metadata": {},
     "output_type": "execute_result"
    }
   ],
   "source": [
    "knn = KNeighborsClassifier(n_neighbors=5) #n_neighbors is the number of neighbours\n",
    "knn.fit(X_train_ml, y_train_ml)\n",
    "y_predict_ml = knn.predict(X_test_ml)\n",
    "cm = confusion_matrix(y_test_ml, y_predict_ml)\n",
    "cm"
   ]
  },
  {
   "cell_type": "code",
   "execution_count": 61,
   "metadata": {},
   "outputs": [
    {
     "name": "stdout",
     "output_type": "stream",
     "text": [
      "accuracy: 0.9076666666666666\n"
     ]
    }
   ],
   "source": [
    "print(\"accuracy:\", knn.score(X_test_ml, y_test_ml)) # accuracy of 90% which is a very good number. But let see can we increase this"
   ]
  },
  {
   "cell_type": "code",
   "execution_count": 62,
   "metadata": {},
   "outputs": [],
   "source": [
    "# correct = 2723 & incorrect = 277. So We can see it depend on the number of the knn neighbours. You have to check \n",
    "# multiple value to find the best result. In our case i think 5 seems the good values."
   ]
  },
  {
   "cell_type": "markdown",
   "metadata": {},
   "source": [
    "# Improve Model"
   ]
  },
  {
   "cell_type": "code",
   "execution_count": 63,
   "metadata": {},
   "outputs": [],
   "source": [
    "from sklearn.model_selection import GridSearchCV\n",
    "# below is the params dictionary object. Here we can add the parameters which we can experiment with. so now our model will get evaluated with all the possible \n",
    "# combination of below params and let you the best score and param combination.\n",
    "params = {\n",
    "    \"n_neighbors\": [5, 10, 20],\n",
    "    'leaf_size' : [30, 40, 50],\n",
    "    'algorithm': [\"ball_tree\", \"kd_tree\", \"brute\"],\n",
    "    'p': [1, 2]\n",
    "}\n",
    "gs = GridSearchCV(estimator=knn, cv=10, param_grid=params )"
   ]
  },
  {
   "cell_type": "code",
   "execution_count": 64,
   "metadata": {},
   "outputs": [],
   "source": [
    "gsresult = gs.fit(X_train_ml, y_train_ml ) # it may take a while as grid search cv will run your mode with all the possible combinations of given params."
   ]
  },
  {
   "cell_type": "code",
   "execution_count": 65,
   "metadata": {},
   "outputs": [
    {
     "name": "stdout",
     "output_type": "stream",
     "text": [
      "0.919\n",
      "{'algorithm': 'ball_tree', 'leaf_size': 30, 'n_neighbors': 20, 'p': 1}\n"
     ]
    }
   ],
   "source": [
    "print(gsresult.best_score_) # So you can see we increased accuracy with more than 1% for training data.\n",
    "print(gsresult.best_params_) # So this is the best possible combination for our model. Lets try with that."
   ]
  },
  {
   "cell_type": "code",
   "execution_count": 66,
   "metadata": {},
   "outputs": [
    {
     "data": {
      "text/plain": [
       "KNeighborsClassifier(algorithm='ball_tree', leaf_size=30, metric='minkowski',\n",
       "                     metric_params=None, n_jobs=None, n_neighbors=20, p=1,\n",
       "                     weights='uniform')"
      ]
     },
     "execution_count": 66,
     "metadata": {},
     "output_type": "execute_result"
    }
   ],
   "source": [
    "knn_best_fit = KNeighborsClassifier(algorithm = \"ball_tree\", leaf_size= 30, n_neighbors = 20, p=1)\n",
    "knn_best_fit.fit(X_train_ml, y_train_ml)"
   ]
  },
  {
   "cell_type": "code",
   "execution_count": 67,
   "metadata": {},
   "outputs": [],
   "source": [
    "y_predict_best = knn_best_fit.predict(X_test_ml)"
   ]
  },
  {
   "cell_type": "code",
   "execution_count": 68,
   "metadata": {},
   "outputs": [
    {
     "data": {
      "text/plain": [
       "array([[1352,  120],\n",
       "       [ 133, 1395]])"
      ]
     },
     "execution_count": 68,
     "metadata": {},
     "output_type": "execute_result"
    }
   ],
   "source": [
    "cm_best = confusion_matrix(y_test_ml, y_predict_best)\n",
    "cm_best"
   ]
  },
  {
   "cell_type": "code",
   "execution_count": 69,
   "metadata": {},
   "outputs": [
    {
     "name": "stdout",
     "output_type": "stream",
     "text": [
      "accuracy: 0.9706666666666667\n"
     ]
    }
   ],
   "source": [
    "print(\"accuracy:\", knn.score(X_test_ml, y_predict_best)) # accuracy of our new model is 97% which means 7% more than our old model for unseen data or test data, which is amazing.\n",
    "# So here we will stop with this configuration."
   ]
  },
  {
   "cell_type": "code",
   "execution_count": 70,
   "metadata": {},
   "outputs": [],
   "source": [
    "# As our data is very small but still GridSearchCV performed amazing. But remember if you have big data it can give you even better results so always try to configure your model with it.\n",
    "# For larger dataset it can take a long time to train model using gridsearchcv."
   ]
  },
  {
   "cell_type": "markdown",
   "metadata": {},
   "source": [
    "# Plot Confusion Matrix."
   ]
  },
  {
   "cell_type": "code",
   "execution_count": 71,
   "metadata": {},
   "outputs": [
    {
     "data": {
      "text/plain": [
       "<matplotlib.axes._subplots.AxesSubplot at 0x7f3476422400>"
      ]
     },
     "execution_count": 71,
     "metadata": {},
     "output_type": "execute_result"
    },
    {
     "data": {
      "image/png": "[encoded data removed]",
      "text/plain": [
       "<Figure size 432x288 with 2 Axes>"
      ]
     },
     "metadata": {
      "needs_background": "light"
     },
     "output_type": "display_data"
    }
   ],
   "source": [
    "# Though we can see our confusion matrix but it is always good to plot it in a user friendly way.\n",
    "sns.heatmap(cm, annot=True, fmt='g')"
   ]
  },
  {
   "cell_type": "code",
   "execution_count": 72,
   "metadata": {},
   "outputs": [
    {
     "data": {
      "text/plain": [
       "<matplotlib.axes._subplots.AxesSubplot at 0x7f347537c978>"
      ]
     },
     "execution_count": 72,
     "metadata": {},
     "output_type": "execute_result"
    },
    {
     "data": {
      "image/png": "[encoded data removed]",
      "text/plain": [
       "<Figure size 432x288 with 2 Axes>"
      ]
     },
     "metadata": {
      "needs_background": "light"
     },
     "output_type": "display_data"
    }
   ],
   "source": [
    "sns.heatmap(cm_best, annot=True, fmt='g')"
   ]
  },
  {
   "cell_type": "markdown",
   "metadata": {},
   "source": [
    "So from above images we can see the difference between our result."
   ]
  },
  {
   "cell_type": "markdown",
   "metadata": {},
   "source": [
    "# Neural Network"
   ]
  },
  {
   "cell_type": "markdown",
   "metadata": {},
   "source": [
    "Though we already got a good accuracy for our model but lets try neural network.\n",
    "My main aim here is to explain how neural network works. It is not necessary that neural networks are always better than other models.\n",
    "We will just see the implementation on Artificial Neural Network and test whether it performs better or worse. Ususally ANN needs huge data but lets apply."
   ]
  },
  {
   "cell_type": "code",
   "execution_count": 73,
   "metadata": {},
   "outputs": [
    {
     "name": "stderr",
     "output_type": "stream",
     "text": [
      "Using TensorFlow backend.\n",
      "/opt/conda/lib/python3.6/site-packages/tensorflow/python/framework/dtypes.py:516: FutureWarning: Passing (type, 1) or '1type' as a synonym of type is deprecated; in a future version of numpy, it will be understood as (type, (1,)) / '(1,)type'.\n",
      "  _np_qint8 = np.dtype([(\"qint8\", np.int8, 1)])\n",
      "/opt/conda/lib/python3.6/site-packages/tensorflow/python/framework/dtypes.py:517: FutureWarning: Passing (type, 1) or '1type' as a synonym of type is deprecated; in a future version of numpy, it will be understood as (type, (1,)) / '(1,)type'.\n",
      "  _np_quint8 = np.dtype([(\"quint8\", np.uint8, 1)])\n",
      "/opt/conda/lib/python3.6/site-packages/tensorflow/python/framework/dtypes.py:518: FutureWarning: Passing (type, 1) or '1type' as a synonym of type is deprecated; in a future version of numpy, it will be understood as (type, (1,)) / '(1,)type'.\n",
      "  _np_qint16 = np.dtype([(\"qint16\", np.int16, 1)])\n",
      "/opt/conda/lib/python3.6/site-packages/tensorflow/python/framework/dtypes.py:519: FutureWarning: Passing (type, 1) or '1type' as a synonym of type is deprecated; in a future version of numpy, it will be understood as (type, (1,)) / '(1,)type'.\n",
      "  _np_quint16 = np.dtype([(\"quint16\", np.uint16, 1)])\n",
      "/opt/conda/lib/python3.6/site-packages/tensorflow/python/framework/dtypes.py:520: FutureWarning: Passing (type, 1) or '1type' as a synonym of type is deprecated; in a future version of numpy, it will be understood as (type, (1,)) / '(1,)type'.\n",
      "  _np_qint32 = np.dtype([(\"qint32\", np.int32, 1)])\n",
      "/opt/conda/lib/python3.6/site-packages/tensorflow/python/framework/dtypes.py:525: FutureWarning: Passing (type, 1) or '1type' as a synonym of type is deprecated; in a future version of numpy, it will be understood as (type, (1,)) / '(1,)type'.\n",
      "  np_resource = np.dtype([(\"resource\", np.ubyte, 1)])\n",
      "/opt/conda/lib/python3.6/site-packages/tensorboard/compat/tensorflow_stub/dtypes.py:541: FutureWarning: Passing (type, 1) or '1type' as a synonym of type is deprecated; in a future version of numpy, it will be understood as (type, (1,)) / '(1,)type'.\n",
      "  _np_qint8 = np.dtype([(\"qint8\", np.int8, 1)])\n",
      "/opt/conda/lib/python3.6/site-packages/tensorboard/compat/tensorflow_stub/dtypes.py:542: FutureWarning: Passing (type, 1) or '1type' as a synonym of type is deprecated; in a future version of numpy, it will be understood as (type, (1,)) / '(1,)type'.\n",
      "  _np_quint8 = np.dtype([(\"quint8\", np.uint8, 1)])\n",
      "/opt/conda/lib/python3.6/site-packages/tensorboard/compat/tensorflow_stub/dtypes.py:543: FutureWarning: Passing (type, 1) or '1type' as a synonym of type is deprecated; in a future version of numpy, it will be understood as (type, (1,)) / '(1,)type'.\n",
      "  _np_qint16 = np.dtype([(\"qint16\", np.int16, 1)])\n",
      "/opt/conda/lib/python3.6/site-packages/tensorboard/compat/tensorflow_stub/dtypes.py:544: FutureWarning: Passing (type, 1) or '1type' as a synonym of type is deprecated; in a future version of numpy, it will be understood as (type, (1,)) / '(1,)type'.\n",
      "  _np_quint16 = np.dtype([(\"quint16\", np.uint16, 1)])\n",
      "/opt/conda/lib/python3.6/site-packages/tensorboard/compat/tensorflow_stub/dtypes.py:545: FutureWarning: Passing (type, 1) or '1type' as a synonym of type is deprecated; in a future version of numpy, it will be understood as (type, (1,)) / '(1,)type'.\n",
      "  _np_qint32 = np.dtype([(\"qint32\", np.int32, 1)])\n",
      "/opt/conda/lib/python3.6/site-packages/tensorboard/compat/tensorflow_stub/dtypes.py:550: FutureWarning: Passing (type, 1) or '1type' as a synonym of type is deprecated; in a future version of numpy, it will be understood as (type, (1,)) / '(1,)type'.\n",
      "  np_resource = np.dtype([(\"resource\", np.ubyte, 1)])\n"
     ]
    }
   ],
   "source": [
    "import keras\n",
    "from keras.layers import Dense, Dropout\n",
    "from keras.models import Sequential"
   ]
  },
  {
   "cell_type": "code",
   "execution_count": 74,
   "metadata": {},
   "outputs": [],
   "source": [
    "# input_dim is no of inputs in ANN which is equal to no of columns in X_train \n",
    "# Dense() adding a layer\n",
    "# Dropout() is to avoid overfit. It drops given percentage of neurons in the next layer.\n",
    "clf = Sequential([\n",
    "    Dense(input_dim=2, units=20, activation='relu'),\n",
    "    #Dropout(0.2),\n",
    "    Dense(units=20, activation='relu'),\n",
    "    Dense(units=2, activation='sigmoid') # final layer is output unit. Here units should be equal to the number of class in you output.\n",
    "])\n",
    "clf.compile(optimizer=\"adam\", loss=\"sparse_categorical_crossentropy\", metrics=[\"accuracy\"])"
   ]
  },
  {
   "cell_type": "code",
   "execution_count": 75,
   "metadata": {},
   "outputs": [
    {
     "name": "stdout",
     "output_type": "stream",
     "text": [
      "_________________________________________________________________\n",
      "Layer (type)                 Output Shape              Param #   \n",
      "=================================================================\n",
      "dense_1 (Dense)              (None, 20)                60        \n",
      "_________________________________________________________________\n",
      "dense_2 (Dense)              (None, 20)                420       \n",
      "_________________________________________________________________\n",
      "dense_3 (Dense)              (None, 2)                 42        \n",
      "=================================================================\n",
      "Total params: 522\n",
      "Trainable params: 522\n",
      "Non-trainable params: 0\n",
      "_________________________________________________________________\n"
     ]
    }
   ],
   "source": [
    "clf.summary() # you can check your model details"
   ]
  },
  {
   "cell_type": "code",
   "execution_count": 76,
   "metadata": {},
   "outputs": [
    {
     "name": "stdout",
     "output_type": "stream",
     "text": [
      "Epoch 1/50\n",
      "7000/7000 [==============================] - 6s 914us/step - loss: 7.9946 - acc: 0.5040\n",
      "Epoch 2/50\n",
      "7000/7000 [==============================] - 2s 300us/step - loss: 7.9946 - acc: 0.5040\n",
      "Epoch 3/50\n",
      "7000/7000 [==============================] - 2s 296us/step - loss: 7.9946 - acc: 0.5040\n",
      "Epoch 4/50\n",
      "7000/7000 [==============================] - 2s 297us/step - loss: 7.9946 - acc: 0.5040\n",
      "Epoch 5/50\n",
      "7000/7000 [==============================] - 2s 299us/step - loss: 7.9946 - acc: 0.5040\n",
      "Epoch 6/50\n",
      "7000/7000 [==============================] - 2s 301us/step - loss: 7.9946 - acc: 0.5040\n",
      "Epoch 7/50\n",
      "7000/7000 [==============================] - 2s 299us/step - loss: 7.9946 - acc: 0.5040\n",
      "Epoch 8/50\n",
      "7000/7000 [==============================] - 2s 297us/step - loss: 7.9946 - acc: 0.5040\n",
      "Epoch 9/50\n",
      "7000/7000 [==============================] - 2s 297us/step - loss: 7.9946 - acc: 0.5040\n",
      "Epoch 10/50\n",
      "7000/7000 [==============================] - 2s 297us/step - loss: 7.9946 - acc: 0.5040\n",
      "Epoch 11/50\n",
      "7000/7000 [==============================] - 2s 294us/step - loss: 7.9946 - acc: 0.5040\n",
      "Epoch 12/50\n",
      "7000/7000 [==============================] - 2s 296us/step - loss: 7.9946 - acc: 0.5040\n",
      "Epoch 13/50\n",
      "7000/7000 [==============================] - 2s 295us/step - loss: 7.9946 - acc: 0.5040\n",
      "Epoch 14/50\n",
      "7000/7000 [==============================] - 2s 296us/step - loss: 7.9946 - acc: 0.5040\n",
      "Epoch 15/50\n",
      "7000/7000 [==============================] - 2s 300us/step - loss: 7.9946 - acc: 0.5040\n",
      "Epoch 16/50\n",
      "7000/7000 [==============================] - 2s 298us/step - loss: 7.9946 - acc: 0.5040\n",
      "Epoch 17/50\n",
      "7000/7000 [==============================] - 2s 296us/step - loss: 7.9946 - acc: 0.5040\n",
      "Epoch 18/50\n",
      "7000/7000 [==============================] - 2s 294us/step - loss: 7.9946 - acc: 0.5040\n",
      "Epoch 19/50\n",
      "7000/7000 [==============================] - 2s 295us/step - loss: 7.9946 - acc: 0.5040\n",
      "Epoch 20/50\n",
      "7000/7000 [==============================] - 2s 301us/step - loss: 7.9946 - acc: 0.5040\n",
      "Epoch 21/50\n",
      "7000/7000 [==============================] - 2s 304us/step - loss: 7.9946 - acc: 0.5040\n",
      "Epoch 22/50\n",
      "7000/7000 [==============================] - 2s 302us/step - loss: 7.9946 - acc: 0.5040\n",
      "Epoch 23/50\n",
      "7000/7000 [==============================] - 2s 296us/step - loss: 7.9946 - acc: 0.5040\n",
      "Epoch 24/50\n",
      "7000/7000 [==============================] - 2s 295us/step - loss: 7.9946 - acc: 0.5040\n",
      "Epoch 25/50\n",
      "7000/7000 [==============================] - 2s 295us/step - loss: 7.9946 - acc: 0.5040\n",
      "Epoch 26/50\n",
      "7000/7000 [==============================] - 2s 297us/step - loss: 7.9946 - acc: 0.5040\n",
      "Epoch 27/50\n",
      "7000/7000 [==============================] - 2s 307us/step - loss: 7.9946 - acc: 0.5040\n",
      "Epoch 28/50\n",
      "7000/7000 [==============================] - 2s 322us/step - loss: 7.9946 - acc: 0.5040\n",
      "Epoch 29/50\n",
      "7000/7000 [==============================] - 2s 316us/step - loss: 7.9946 - acc: 0.5040\n",
      "Epoch 30/50\n",
      "7000/7000 [==============================] - 2s 310us/step - loss: 7.9946 - acc: 0.5040\n",
      "Epoch 31/50\n",
      "7000/7000 [==============================] - 2s 316us/step - loss: 7.9946 - acc: 0.5040\n",
      "Epoch 32/50\n",
      "7000/7000 [==============================] - 2s 306us/step - loss: 7.9946 - acc: 0.5040\n",
      "Epoch 33/50\n",
      "7000/7000 [==============================] - 2s 305us/step - loss: 7.9946 - acc: 0.5040\n",
      "Epoch 34/50\n",
      "7000/7000 [==============================] - 2s 309us/step - loss: 7.9946 - acc: 0.5040\n",
      "Epoch 35/50\n",
      "7000/7000 [==============================] - 2s 309us/step - loss: 7.9946 - acc: 0.5040\n",
      "Epoch 36/50\n",
      "7000/7000 [==============================] - 2s 303us/step - loss: 7.9946 - acc: 0.5040\n",
      "Epoch 37/50\n",
      "7000/7000 [==============================] - 2s 304us/step - loss: 7.9946 - acc: 0.5040\n",
      "Epoch 38/50\n",
      "7000/7000 [==============================] - 2s 297us/step - loss: 7.9946 - acc: 0.5040\n",
      "Epoch 39/50\n",
      "7000/7000 [==============================] - 2s 297us/step - loss: 7.9946 - acc: 0.5040\n",
      "Epoch 40/50\n",
      "7000/7000 [==============================] - 2s 296us/step - loss: 7.9946 - acc: 0.5040\n",
      "Epoch 41/50\n",
      "7000/7000 [==============================] - 2s 295us/step - loss: 7.9946 - acc: 0.5040\n",
      "Epoch 42/50\n",
      "7000/7000 [==============================] - 2s 294us/step - loss: 7.9946 - acc: 0.5040\n",
      "Epoch 43/50\n",
      "7000/7000 [==============================] - 2s 294us/step - loss: 7.9946 - acc: 0.5040\n",
      "Epoch 44/50\n",
      "7000/7000 [==============================] - 2s 297us/step - loss: 7.9946 - acc: 0.5040\n",
      "Epoch 45/50\n",
      "7000/7000 [==============================] - 2s 296us/step - loss: 7.9946 - acc: 0.5040\n",
      "Epoch 46/50\n",
      "7000/7000 [==============================] - 2s 295us/step - loss: 7.9946 - acc: 0.5040\n",
      "Epoch 47/50\n",
      "7000/7000 [==============================] - 2s 296us/step - loss: 7.9946 - acc: 0.5040\n",
      "Epoch 48/50\n",
      "7000/7000 [==============================] - 2s 297us/step - loss: 7.9946 - acc: 0.5040\n",
      "Epoch 49/50\n",
      "7000/7000 [==============================] - 2s 301us/step - loss: 7.9946 - acc: 0.5040\n",
      "Epoch 50/50\n",
      "7000/7000 [==============================] - 2s 305us/step - loss: 7.9946 - acc: 0.5040\n"
     ]
    },
    {
     "data": {
      "text/plain": [
       "<keras.callbacks.History at 0x7f34872d2048>"
      ]
     },
     "execution_count": 76,
     "metadata": {},
     "output_type": "execute_result"
    }
   ],
   "source": [
    "clf.fit(X_train_ml, y_train_ml, batch_size=10, epochs=50)"
   ]
  },
  {
   "cell_type": "code",
   "execution_count": 77,
   "metadata": {},
   "outputs": [
    {
     "name": "stdout",
     "output_type": "stream",
     "text": [
      "7000/7000 [==============================] - 0s 44us/step\n"
     ]
    },
    {
     "data": {
      "text/plain": [
       "[7.994575355529785, 0.504]"
      ]
     },
     "execution_count": 77,
     "metadata": {},
     "output_type": "execute_result"
    }
   ],
   "source": [
    "clf.evaluate(X_train_ml, y_train_ml) # So accuracy of 91% in training data"
   ]
  },
  {
   "cell_type": "code",
   "execution_count": 78,
   "metadata": {},
   "outputs": [
    {
     "name": "stdout",
     "output_type": "stream",
     "text": [
      "3000/3000 [==============================] - 0s 42us/step\n"
     ]
    },
    {
     "data": {
      "text/plain": [
       "[8.209483375549317, 0.4906666665871938]"
      ]
     },
     "execution_count": 78,
     "metadata": {},
     "output_type": "execute_result"
    }
   ],
   "source": [
    "clf.evaluate(X_test_ml, y_test_ml) # So accuracy of 91% in test data"
   ]
  },
  {
   "cell_type": "code",
   "execution_count": 79,
   "metadata": {},
   "outputs": [],
   "source": [
    "# So we can see neural network did not perform well on data. It may be because we have very less data. But you may try adding more Dense layers.\n",
    "# our main aim was to show the implementation of neural network."
   ]
  },
  {
   "cell_type": "code",
   "execution_count": 80,
   "metadata": {},
   "outputs": [],
   "source": [
    "# You can predict like\n",
    "y_predict_nn = clf.predict_classes(X_test_ml)"
   ]
  },
  {
   "cell_type": "code",
   "execution_count": 81,
   "metadata": {},
   "outputs": [
    {
     "data": {
      "text/plain": [
       "array([[1472,    0],\n",
       "       [1528,    0]])"
      ]
     },
     "execution_count": 81,
     "metadata": {},
     "output_type": "execute_result"
    }
   ],
   "source": [
    "cm_nn = confusion_matrix(y_test_ml, y_predict_nn)\n",
    "cm_nn"
   ]
  },
  {
   "cell_type": "code",
   "execution_count": 82,
   "metadata": {},
   "outputs": [],
   "source": [
    "# So we have a very bad model. So finally after evaluation KNN and ANN we found that in our case KNN with optimized values is best model for us.\n",
    "# AGAIN... IT ISNOT NECESSARY THAT NEURAL NETWORK WILL ALWAYS PERFORM GOOD FOR YOUR DATA."
   ]
  },
  {
   "cell_type": "code",
   "execution_count": 83,
   "metadata": {},
   "outputs": [],
   "source": [
    "# So now finally you just finished your simple classifier.\n",
    "# I hope you understood the process.\n",
    "# Like us on facebook fo more tutorials :  https://www.facebook.com/codemakerz"
   ]
  }
 ],
 "metadata": {
  "kernelspec": {
   "display_name": "Python 3",
   "language": "python",
   "name": "python3"
  },
  "language_info": {
   "codemirror_mode": {
    "name": "ipython",
    "version": 3
   },
   "file_extension": ".py",
   "mimetype": "text/x-python",
   "name": "python",
   "nbconvert_exporter": "python",
   "pygments_lexer": "ipython3",
   "version": "3.7.5"
  }
 },
 "nbformat": 4,
 "nbformat_minor": 1
}
